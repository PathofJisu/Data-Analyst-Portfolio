{
  "nbformat": 4,
  "nbformat_minor": 0,
  "metadata": {
    "colab": {
      "provenance": [],
      "collapsed_sections": [
        "2HFmAsRwJ-go"
      ]
    },
    "kernelspec": {
      "name": "python3",
      "display_name": "Python 3"
    },
    "language_info": {
      "name": "python"
    }
  },
  "cells": [
    {
      "cell_type": "code",
      "source": [
        "%reset -f"
      ],
      "metadata": {
        "id": "PTpzWagq-pRI"
      },
      "execution_count": null,
      "outputs": []
    },
    {
      "cell_type": "code",
      "source": [
        "import pandas as pd\n",
        "import seaborn as sns\n",
        "import matplotlib.pyplot as plt\n",
        "import statsmodels.api as sm\n",
        "import plotly.express as px\n",
        "from plotly.subplots import make_subplots\n",
        "import plotly.graph_objects as go"
      ],
      "metadata": {
        "id": "wNPurHkXR5ME"
      },
      "execution_count": null,
      "outputs": []
    },
    {
      "cell_type": "code",
      "execution_count": null,
      "metadata": {
        "id": "lSJkqYS1JJwP"
      },
      "outputs": [],
      "source": [
        "df= pd.read_csv('/content/sample_data/2019-Dec.csv')"
      ]
    },
    {
      "cell_type": "code",
      "source": [
        "df.head()"
      ],
      "metadata": {
        "colab": {
          "base_uri": "https://localhost:8080/",
          "height": 293
        },
        "id": "EwzpqTZbJ9lq",
        "outputId": "dcf3b5b9-becf-4907-8b30-4ed0f58f0364"
      },
      "execution_count": null,
      "outputs": [
        {
          "output_type": "execute_result",
          "data": {
            "text/plain": [
              "                event_time        event_type  product_id          category_id  \\\n",
              "0  2019-12-01 00:00:00 UTC  remove_from_cart     5712790  1487580005268456287   \n",
              "1  2019-12-01 00:00:00 UTC              view     5764655  1487580005411062629   \n",
              "2  2019-12-01 00:00:02 UTC              cart        4958  1487580009471148064   \n",
              "3  2019-12-01 00:00:05 UTC              view     5848413  1487580007675986893   \n",
              "4  2019-12-01 00:00:07 UTC              view     5824148  1487580005511725929   \n",
              "\n",
              "  category_code      brand  price    user_id  \\\n",
              "0           NaN      f.o.x   6.27  576802932   \n",
              "1           NaN        cnd  29.05  412120092   \n",
              "2           NaN     runail   1.19  494077766   \n",
              "3           NaN  freedecor   0.79  348405118   \n",
              "4           NaN        NaN   5.56  576005683   \n",
              "\n",
              "                           user_session  \n",
              "0  51d85cb0-897f-48d2-918b-ad63965c12dc  \n",
              "1  8adff31e-2051-4894-9758-224bfa8aec18  \n",
              "2  c99a50e8-2fac-4c4d-89ec-41c05f114554  \n",
              "3  722ffea5-73c0-4924-8e8f-371ff8031af4  \n",
              "4  28172809-7e4a-45ce-bab0-5efa90117cd5  "
            ],
            "text/html": [
              "\n",
              "  <div id=\"df-1f1a795a-376c-4867-ba9f-85c952088d6d\" class=\"colab-df-container\">\n",
              "    <div>\n",
              "<style scoped>\n",
              "    .dataframe tbody tr th:only-of-type {\n",
              "        vertical-align: middle;\n",
              "    }\n",
              "\n",
              "    .dataframe tbody tr th {\n",
              "        vertical-align: top;\n",
              "    }\n",
              "\n",
              "    .dataframe thead th {\n",
              "        text-align: right;\n",
              "    }\n",
              "</style>\n",
              "<table border=\"1\" class=\"dataframe\">\n",
              "  <thead>\n",
              "    <tr style=\"text-align: right;\">\n",
              "      <th></th>\n",
              "      <th>event_time</th>\n",
              "      <th>event_type</th>\n",
              "      <th>product_id</th>\n",
              "      <th>category_id</th>\n",
              "      <th>category_code</th>\n",
              "      <th>brand</th>\n",
              "      <th>price</th>\n",
              "      <th>user_id</th>\n",
              "      <th>user_session</th>\n",
              "    </tr>\n",
              "  </thead>\n",
              "  <tbody>\n",
              "    <tr>\n",
              "      <th>0</th>\n",
              "      <td>2019-12-01 00:00:00 UTC</td>\n",
              "      <td>remove_from_cart</td>\n",
              "      <td>5712790</td>\n",
              "      <td>1487580005268456287</td>\n",
              "      <td>NaN</td>\n",
              "      <td>f.o.x</td>\n",
              "      <td>6.27</td>\n",
              "      <td>576802932</td>\n",
              "      <td>51d85cb0-897f-48d2-918b-ad63965c12dc</td>\n",
              "    </tr>\n",
              "    <tr>\n",
              "      <th>1</th>\n",
              "      <td>2019-12-01 00:00:00 UTC</td>\n",
              "      <td>view</td>\n",
              "      <td>5764655</td>\n",
              "      <td>1487580005411062629</td>\n",
              "      <td>NaN</td>\n",
              "      <td>cnd</td>\n",
              "      <td>29.05</td>\n",
              "      <td>412120092</td>\n",
              "      <td>8adff31e-2051-4894-9758-224bfa8aec18</td>\n",
              "    </tr>\n",
              "    <tr>\n",
              "      <th>2</th>\n",
              "      <td>2019-12-01 00:00:02 UTC</td>\n",
              "      <td>cart</td>\n",
              "      <td>4958</td>\n",
              "      <td>1487580009471148064</td>\n",
              "      <td>NaN</td>\n",
              "      <td>runail</td>\n",
              "      <td>1.19</td>\n",
              "      <td>494077766</td>\n",
              "      <td>c99a50e8-2fac-4c4d-89ec-41c05f114554</td>\n",
              "    </tr>\n",
              "    <tr>\n",
              "      <th>3</th>\n",
              "      <td>2019-12-01 00:00:05 UTC</td>\n",
              "      <td>view</td>\n",
              "      <td>5848413</td>\n",
              "      <td>1487580007675986893</td>\n",
              "      <td>NaN</td>\n",
              "      <td>freedecor</td>\n",
              "      <td>0.79</td>\n",
              "      <td>348405118</td>\n",
              "      <td>722ffea5-73c0-4924-8e8f-371ff8031af4</td>\n",
              "    </tr>\n",
              "    <tr>\n",
              "      <th>4</th>\n",
              "      <td>2019-12-01 00:00:07 UTC</td>\n",
              "      <td>view</td>\n",
              "      <td>5824148</td>\n",
              "      <td>1487580005511725929</td>\n",
              "      <td>NaN</td>\n",
              "      <td>NaN</td>\n",
              "      <td>5.56</td>\n",
              "      <td>576005683</td>\n",
              "      <td>28172809-7e4a-45ce-bab0-5efa90117cd5</td>\n",
              "    </tr>\n",
              "  </tbody>\n",
              "</table>\n",
              "</div>\n",
              "    <div class=\"colab-df-buttons\">\n",
              "\n",
              "  <div class=\"colab-df-container\">\n",
              "    <button class=\"colab-df-convert\" onclick=\"convertToInteractive('df-1f1a795a-376c-4867-ba9f-85c952088d6d')\"\n",
              "            title=\"Convert this dataframe to an interactive table.\"\n",
              "            style=\"display:none;\">\n",
              "\n",
              "  <svg xmlns=\"http://www.w3.org/2000/svg\" height=\"24px\" viewBox=\"0 -960 960 960\">\n",
              "    <path d=\"M120-120v-720h720v720H120Zm60-500h600v-160H180v160Zm220 220h160v-160H400v160Zm0 220h160v-160H400v160ZM180-400h160v-160H180v160Zm440 0h160v-160H620v160ZM180-180h160v-160H180v160Zm440 0h160v-160H620v160Z\"/>\n",
              "  </svg>\n",
              "    </button>\n",
              "\n",
              "  <style>\n",
              "    .colab-df-container {\n",
              "      display:flex;\n",
              "      gap: 12px;\n",
              "    }\n",
              "\n",
              "    .colab-df-convert {\n",
              "      background-color: #E8F0FE;\n",
              "      border: none;\n",
              "      border-radius: 50%;\n",
              "      cursor: pointer;\n",
              "      display: none;\n",
              "      fill: #1967D2;\n",
              "      height: 32px;\n",
              "      padding: 0 0 0 0;\n",
              "      width: 32px;\n",
              "    }\n",
              "\n",
              "    .colab-df-convert:hover {\n",
              "      background-color: #E2EBFA;\n",
              "      box-shadow: 0px 1px 2px rgba(60, 64, 67, 0.3), 0px 1px 3px 1px rgba(60, 64, 67, 0.15);\n",
              "      fill: #174EA6;\n",
              "    }\n",
              "\n",
              "    .colab-df-buttons div {\n",
              "      margin-bottom: 4px;\n",
              "    }\n",
              "\n",
              "    [theme=dark] .colab-df-convert {\n",
              "      background-color: #3B4455;\n",
              "      fill: #D2E3FC;\n",
              "    }\n",
              "\n",
              "    [theme=dark] .colab-df-convert:hover {\n",
              "      background-color: #434B5C;\n",
              "      box-shadow: 0px 1px 3px 1px rgba(0, 0, 0, 0.15);\n",
              "      filter: drop-shadow(0px 1px 2px rgba(0, 0, 0, 0.3));\n",
              "      fill: #FFFFFF;\n",
              "    }\n",
              "  </style>\n",
              "\n",
              "    <script>\n",
              "      const buttonEl =\n",
              "        document.querySelector('#df-1f1a795a-376c-4867-ba9f-85c952088d6d button.colab-df-convert');\n",
              "      buttonEl.style.display =\n",
              "        google.colab.kernel.accessAllowed ? 'block' : 'none';\n",
              "\n",
              "      async function convertToInteractive(key) {\n",
              "        const element = document.querySelector('#df-1f1a795a-376c-4867-ba9f-85c952088d6d');\n",
              "        const dataTable =\n",
              "          await google.colab.kernel.invokeFunction('convertToInteractive',\n",
              "                                                    [key], {});\n",
              "        if (!dataTable) return;\n",
              "\n",
              "        const docLinkHtml = 'Like what you see? Visit the ' +\n",
              "          '<a target=\"_blank\" href=https://colab.research.google.com/notebooks/data_table.ipynb>data table notebook</a>'\n",
              "          + ' to learn more about interactive tables.';\n",
              "        element.innerHTML = '';\n",
              "        dataTable['output_type'] = 'display_data';\n",
              "        await google.colab.output.renderOutput(dataTable, element);\n",
              "        const docLink = document.createElement('div');\n",
              "        docLink.innerHTML = docLinkHtml;\n",
              "        element.appendChild(docLink);\n",
              "      }\n",
              "    </script>\n",
              "  </div>\n",
              "\n",
              "\n",
              "<div id=\"df-af9c9d6d-ee31-4f9f-8074-2f93cbb0f8ff\">\n",
              "  <button class=\"colab-df-quickchart\" onclick=\"quickchart('df-af9c9d6d-ee31-4f9f-8074-2f93cbb0f8ff')\"\n",
              "            title=\"Suggest charts\"\n",
              "            style=\"display:none;\">\n",
              "\n",
              "<svg xmlns=\"http://www.w3.org/2000/svg\" height=\"24px\"viewBox=\"0 0 24 24\"\n",
              "     width=\"24px\">\n",
              "    <g>\n",
              "        <path d=\"M19 3H5c-1.1 0-2 .9-2 2v14c0 1.1.9 2 2 2h14c1.1 0 2-.9 2-2V5c0-1.1-.9-2-2-2zM9 17H7v-7h2v7zm4 0h-2V7h2v10zm4 0h-2v-4h2v4z\"/>\n",
              "    </g>\n",
              "</svg>\n",
              "  </button>\n",
              "\n",
              "<style>\n",
              "  .colab-df-quickchart {\n",
              "      --bg-color: #E8F0FE;\n",
              "      --fill-color: #1967D2;\n",
              "      --hover-bg-color: #E2EBFA;\n",
              "      --hover-fill-color: #174EA6;\n",
              "      --disabled-fill-color: #AAA;\n",
              "      --disabled-bg-color: #DDD;\n",
              "  }\n",
              "\n",
              "  [theme=dark] .colab-df-quickchart {\n",
              "      --bg-color: #3B4455;\n",
              "      --fill-color: #D2E3FC;\n",
              "      --hover-bg-color: #434B5C;\n",
              "      --hover-fill-color: #FFFFFF;\n",
              "      --disabled-bg-color: #3B4455;\n",
              "      --disabled-fill-color: #666;\n",
              "  }\n",
              "\n",
              "  .colab-df-quickchart {\n",
              "    background-color: var(--bg-color);\n",
              "    border: none;\n",
              "    border-radius: 50%;\n",
              "    cursor: pointer;\n",
              "    display: none;\n",
              "    fill: var(--fill-color);\n",
              "    height: 32px;\n",
              "    padding: 0;\n",
              "    width: 32px;\n",
              "  }\n",
              "\n",
              "  .colab-df-quickchart:hover {\n",
              "    background-color: var(--hover-bg-color);\n",
              "    box-shadow: 0 1px 2px rgba(60, 64, 67, 0.3), 0 1px 3px 1px rgba(60, 64, 67, 0.15);\n",
              "    fill: var(--button-hover-fill-color);\n",
              "  }\n",
              "\n",
              "  .colab-df-quickchart-complete:disabled,\n",
              "  .colab-df-quickchart-complete:disabled:hover {\n",
              "    background-color: var(--disabled-bg-color);\n",
              "    fill: var(--disabled-fill-color);\n",
              "    box-shadow: none;\n",
              "  }\n",
              "\n",
              "  .colab-df-spinner {\n",
              "    border: 2px solid var(--fill-color);\n",
              "    border-color: transparent;\n",
              "    border-bottom-color: var(--fill-color);\n",
              "    animation:\n",
              "      spin 1s steps(1) infinite;\n",
              "  }\n",
              "\n",
              "  @keyframes spin {\n",
              "    0% {\n",
              "      border-color: transparent;\n",
              "      border-bottom-color: var(--fill-color);\n",
              "      border-left-color: var(--fill-color);\n",
              "    }\n",
              "    20% {\n",
              "      border-color: transparent;\n",
              "      border-left-color: var(--fill-color);\n",
              "      border-top-color: var(--fill-color);\n",
              "    }\n",
              "    30% {\n",
              "      border-color: transparent;\n",
              "      border-left-color: var(--fill-color);\n",
              "      border-top-color: var(--fill-color);\n",
              "      border-right-color: var(--fill-color);\n",
              "    }\n",
              "    40% {\n",
              "      border-color: transparent;\n",
              "      border-right-color: var(--fill-color);\n",
              "      border-top-color: var(--fill-color);\n",
              "    }\n",
              "    60% {\n",
              "      border-color: transparent;\n",
              "      border-right-color: var(--fill-color);\n",
              "    }\n",
              "    80% {\n",
              "      border-color: transparent;\n",
              "      border-right-color: var(--fill-color);\n",
              "      border-bottom-color: var(--fill-color);\n",
              "    }\n",
              "    90% {\n",
              "      border-color: transparent;\n",
              "      border-bottom-color: var(--fill-color);\n",
              "    }\n",
              "  }\n",
              "</style>\n",
              "\n",
              "  <script>\n",
              "    async function quickchart(key) {\n",
              "      const quickchartButtonEl =\n",
              "        document.querySelector('#' + key + ' button');\n",
              "      quickchartButtonEl.disabled = true;  // To prevent multiple clicks.\n",
              "      quickchartButtonEl.classList.add('colab-df-spinner');\n",
              "      try {\n",
              "        const charts = await google.colab.kernel.invokeFunction(\n",
              "            'suggestCharts', [key], {});\n",
              "      } catch (error) {\n",
              "        console.error('Error during call to suggestCharts:', error);\n",
              "      }\n",
              "      quickchartButtonEl.classList.remove('colab-df-spinner');\n",
              "      quickchartButtonEl.classList.add('colab-df-quickchart-complete');\n",
              "    }\n",
              "    (() => {\n",
              "      let quickchartButtonEl =\n",
              "        document.querySelector('#df-af9c9d6d-ee31-4f9f-8074-2f93cbb0f8ff button');\n",
              "      quickchartButtonEl.style.display =\n",
              "        google.colab.kernel.accessAllowed ? 'block' : 'none';\n",
              "    })();\n",
              "  </script>\n",
              "</div>\n",
              "\n",
              "    </div>\n",
              "  </div>\n"
            ],
            "application/vnd.google.colaboratory.intrinsic+json": {
              "type": "dataframe",
              "variable_name": "df"
            }
          },
          "metadata": {},
          "execution_count": 5
        }
      ]
    },
    {
      "cell_type": "markdown",
      "source": [
        "session id(유저가 플랫폼에 진입한 이후, 특정 기간 동안 임시적으로 부여된 id)\n",
        "\n",
        "-> 해당 id는 특정 기간 이후로 활동이 없다면, 다시 진입하는 순간 새로운 session id를 부여받음.\n",
        "\n",
        "따라서, 동일한 session id로 중복된 event가 발생한다면 한번의 id만 카운트 (session id에 대한 고유값만 측정)"
      ],
      "metadata": {
        "id": "oaG3TVylJ-YK"
      }
    },
    {
      "cell_type": "code",
      "source": [
        "df['event_type'].unique()"
      ],
      "metadata": {
        "colab": {
          "base_uri": "https://localhost:8080/"
        },
        "id": "i8EvsCXDJ-cx",
        "outputId": "f7d23d12-7465-45f4-92c8-7b6869f11c94"
      },
      "execution_count": null,
      "outputs": [
        {
          "output_type": "execute_result",
          "data": {
            "text/plain": [
              "array(['remove_from_cart', 'view', 'cart', 'purchase'], dtype=object)"
            ]
          },
          "metadata": {},
          "execution_count": 66
        }
      ]
    },
    {
      "cell_type": "markdown",
      "source": [
        "유저들의 경로:\n",
        "- view - cart - purchase\n",
        "- view - cart - remove_from_cart\n",
        "- view - purchase"
      ],
      "metadata": {
        "id": "nG4F3K_q8J-L"
      }
    },
    {
      "cell_type": "code",
      "source": [
        "df['event_time'] = pd.to_datetime(df['event_time'])"
      ],
      "metadata": {
        "id": "rhi3dK7YP-IE"
      },
      "execution_count": null,
      "outputs": []
    },
    {
      "cell_type": "markdown",
      "source": [
        "### **데이터 전처리**\n",
        "\n",
        "---\n",
        "\n"
      ],
      "metadata": {
        "id": "2HFmAsRwJ-go"
      }
    },
    {
      "cell_type": "markdown",
      "source": [
        "1. 중복값 처리"
      ],
      "metadata": {
        "id": "2VX7bWxrNNih"
      }
    },
    {
      "cell_type": "code",
      "source": [
        "df = df.drop_duplicates()"
      ],
      "metadata": {
        "id": "iBG_q3vgJ-rd"
      },
      "execution_count": null,
      "outputs": []
    },
    {
      "cell_type": "markdown",
      "source": [
        "2. 결측값 처리"
      ],
      "metadata": {
        "id": "kraOV491K3WD"
      }
    },
    {
      "cell_type": "code",
      "source": [
        "df.isna().sum()"
      ],
      "metadata": {
        "colab": {
          "base_uri": "https://localhost:8080/"
        },
        "id": "MZ4F4JAKNUpk",
        "outputId": "d44a3c92-da9b-4ed2-e52e-79018d0e9054"
      },
      "execution_count": null,
      "outputs": [
        {
          "output_type": "execute_result",
          "data": {
            "text/plain": [
              "event_time             0\n",
              "event_type             0\n",
              "product_id             0\n",
              "category_id            0\n",
              "category_code    3242057\n",
              "brand            1405835\n",
              "price                  0\n",
              "user_id                0\n",
              "user_session         707\n",
              "dtype: int64"
            ],
            "text/html": [
              "<div>\n",
              "<style scoped>\n",
              "    .dataframe tbody tr th:only-of-type {\n",
              "        vertical-align: middle;\n",
              "    }\n",
              "\n",
              "    .dataframe tbody tr th {\n",
              "        vertical-align: top;\n",
              "    }\n",
              "\n",
              "    .dataframe thead th {\n",
              "        text-align: right;\n",
              "    }\n",
              "</style>\n",
              "<table border=\"1\" class=\"dataframe\">\n",
              "  <thead>\n",
              "    <tr style=\"text-align: right;\">\n",
              "      <th></th>\n",
              "      <th>0</th>\n",
              "    </tr>\n",
              "  </thead>\n",
              "  <tbody>\n",
              "    <tr>\n",
              "      <th>event_time</th>\n",
              "      <td>0</td>\n",
              "    </tr>\n",
              "    <tr>\n",
              "      <th>event_type</th>\n",
              "      <td>0</td>\n",
              "    </tr>\n",
              "    <tr>\n",
              "      <th>product_id</th>\n",
              "      <td>0</td>\n",
              "    </tr>\n",
              "    <tr>\n",
              "      <th>category_id</th>\n",
              "      <td>0</td>\n",
              "    </tr>\n",
              "    <tr>\n",
              "      <th>category_code</th>\n",
              "      <td>3242057</td>\n",
              "    </tr>\n",
              "    <tr>\n",
              "      <th>brand</th>\n",
              "      <td>1405835</td>\n",
              "    </tr>\n",
              "    <tr>\n",
              "      <th>price</th>\n",
              "      <td>0</td>\n",
              "    </tr>\n",
              "    <tr>\n",
              "      <th>user_id</th>\n",
              "      <td>0</td>\n",
              "    </tr>\n",
              "    <tr>\n",
              "      <th>user_session</th>\n",
              "      <td>707</td>\n",
              "    </tr>\n",
              "  </tbody>\n",
              "</table>\n",
              "</div><br><label><b>dtype:</b> int64</label>"
            ]
          },
          "metadata": {},
          "execution_count": 69
        }
      ]
    },
    {
      "cell_type": "markdown",
      "source": [],
      "metadata": {
        "id": "CugjeoyUO6vS"
      }
    },
    {
      "cell_type": "code",
      "source": [
        "#분석에 의미없는 카테고리 코드 제거\n",
        "df = df.drop('category_code', axis=1)\n",
        "\n",
        "#총 2541810 데이터 중 1072879(brand 결측치) 제거해도 1,468,931개의 데이터를 확보할 수 있기 때문에 단순 제거\n",
        "df = df.dropna(subset = ['brand','price','user_id','user_session'])\n",
        "\n",
        "df.isna().sum()"
      ],
      "metadata": {
        "colab": {
          "base_uri": "https://localhost:8080/"
        },
        "id": "EMcCE19ZO8jL",
        "outputId": "e5ce3c9a-7c4c-4ddd-974d-8014f5128415"
      },
      "execution_count": null,
      "outputs": [
        {
          "output_type": "execute_result",
          "data": {
            "text/plain": [
              "event_time      0\n",
              "event_type      0\n",
              "product_id      0\n",
              "category_id     0\n",
              "brand           0\n",
              "price           0\n",
              "user_id         0\n",
              "user_session    0\n",
              "dtype: int64"
            ],
            "text/html": [
              "<div>\n",
              "<style scoped>\n",
              "    .dataframe tbody tr th:only-of-type {\n",
              "        vertical-align: middle;\n",
              "    }\n",
              "\n",
              "    .dataframe tbody tr th {\n",
              "        vertical-align: top;\n",
              "    }\n",
              "\n",
              "    .dataframe thead th {\n",
              "        text-align: right;\n",
              "    }\n",
              "</style>\n",
              "<table border=\"1\" class=\"dataframe\">\n",
              "  <thead>\n",
              "    <tr style=\"text-align: right;\">\n",
              "      <th></th>\n",
              "      <th>0</th>\n",
              "    </tr>\n",
              "  </thead>\n",
              "  <tbody>\n",
              "    <tr>\n",
              "      <th>event_time</th>\n",
              "      <td>0</td>\n",
              "    </tr>\n",
              "    <tr>\n",
              "      <th>event_type</th>\n",
              "      <td>0</td>\n",
              "    </tr>\n",
              "    <tr>\n",
              "      <th>product_id</th>\n",
              "      <td>0</td>\n",
              "    </tr>\n",
              "    <tr>\n",
              "      <th>category_id</th>\n",
              "      <td>0</td>\n",
              "    </tr>\n",
              "    <tr>\n",
              "      <th>brand</th>\n",
              "      <td>0</td>\n",
              "    </tr>\n",
              "    <tr>\n",
              "      <th>price</th>\n",
              "      <td>0</td>\n",
              "    </tr>\n",
              "    <tr>\n",
              "      <th>user_id</th>\n",
              "      <td>0</td>\n",
              "    </tr>\n",
              "    <tr>\n",
              "      <th>user_session</th>\n",
              "      <td>0</td>\n",
              "    </tr>\n",
              "  </tbody>\n",
              "</table>\n",
              "</div><br><label><b>dtype:</b> int64</label>"
            ]
          },
          "metadata": {},
          "execution_count": 70
        }
      ]
    },
    {
      "cell_type": "markdown",
      "source": [
        "3. 이상치(Outliers) 처리"
      ],
      "metadata": {
        "id": "CLqLc2lqPFKw"
      }
    },
    {
      "cell_type": "code",
      "source": [
        "df['event_time'].describe()"
      ],
      "metadata": {
        "colab": {
          "base_uri": "https://localhost:8080/"
        },
        "id": "hoGgO7C9PFRg",
        "outputId": "1ea3c494-c8be-4320-abd1-9d667727bccf"
      },
      "execution_count": null,
      "outputs": [
        {
          "output_type": "execute_result",
          "data": {
            "text/plain": [
              "count                                1891487\n",
              "mean     2019-12-14 14:46:47.211828992+00:00\n",
              "min                2019-12-01 00:00:00+00:00\n",
              "25%         2019-12-07 17:24:35.500000+00:00\n",
              "50%                2019-12-14 04:55:29+00:00\n",
              "75%         2019-12-21 08:51:01.500000+00:00\n",
              "max                2019-12-30 15:27:58+00:00\n",
              "Name: event_time, dtype: object"
            ],
            "text/html": [
              "<div>\n",
              "<style scoped>\n",
              "    .dataframe tbody tr th:only-of-type {\n",
              "        vertical-align: middle;\n",
              "    }\n",
              "\n",
              "    .dataframe tbody tr th {\n",
              "        vertical-align: top;\n",
              "    }\n",
              "\n",
              "    .dataframe thead th {\n",
              "        text-align: right;\n",
              "    }\n",
              "</style>\n",
              "<table border=\"1\" class=\"dataframe\">\n",
              "  <thead>\n",
              "    <tr style=\"text-align: right;\">\n",
              "      <th></th>\n",
              "      <th>event_time</th>\n",
              "    </tr>\n",
              "  </thead>\n",
              "  <tbody>\n",
              "    <tr>\n",
              "      <th>count</th>\n",
              "      <td>1891487</td>\n",
              "    </tr>\n",
              "    <tr>\n",
              "      <th>mean</th>\n",
              "      <td>2019-12-14 14:46:47.211828992+00:00</td>\n",
              "    </tr>\n",
              "    <tr>\n",
              "      <th>min</th>\n",
              "      <td>2019-12-01 00:00:00+00:00</td>\n",
              "    </tr>\n",
              "    <tr>\n",
              "      <th>25%</th>\n",
              "      <td>2019-12-07 17:24:35.500000+00:00</td>\n",
              "    </tr>\n",
              "    <tr>\n",
              "      <th>50%</th>\n",
              "      <td>2019-12-14 04:55:29+00:00</td>\n",
              "    </tr>\n",
              "    <tr>\n",
              "      <th>75%</th>\n",
              "      <td>2019-12-21 08:51:01.500000+00:00</td>\n",
              "    </tr>\n",
              "    <tr>\n",
              "      <th>max</th>\n",
              "      <td>2019-12-30 15:27:58+00:00</td>\n",
              "    </tr>\n",
              "  </tbody>\n",
              "</table>\n",
              "</div><br><label><b>dtype:</b> object</label>"
            ]
          },
          "metadata": {},
          "execution_count": 71
        }
      ]
    },
    {
      "cell_type": "markdown",
      "source": [
        "- 2019-12-01부터 2019-12-31 한달 간의 데이터\n",
        "- 날짜에 대한 이상치 없음"
      ],
      "metadata": {
        "id": "0AK5Qb7pPFX1"
      }
    },
    {
      "cell_type": "markdown",
      "source": [
        "### **Funnel 분석**\n",
        "\n",
        "---\n",
        "\n"
      ],
      "metadata": {
        "id": "fln6aED4PFcn"
      }
    },
    {
      "cell_type": "markdown",
      "source": [
        "하나의 세션마다 View Page, Cart, Purchase, Remove From Cart에 대한 고객들의 다양한 여정 중,\n",
        "\n",
        "view - cart - purchase / view - cart - remove_from_cart / view - purchase 3가지 루트에 집중해서 분석"
      ],
      "metadata": {
        "id": "D7QipZcc-DvS"
      }
    },
    {
      "cell_type": "markdown",
      "source": [
        "1. 전체 퍼널 분석"
      ],
      "metadata": {
        "id": "-qSvoKCD1PLr"
      }
    },
    {
      "cell_type": "code",
      "source": [
        "# 이벤트 유형별 카운트\n",
        "event_counts = df['event_type'].value_counts()\n",
        "\n",
        "# 전환율 계산\n",
        "view_count = event_counts.get('view', 0)\n",
        "cart_count = event_counts.get('cart', 0)\n",
        "remove_count = event_counts.get('remove_from_cart', 0)\n",
        "purchase_count = event_counts.get('purchase', 0)\n",
        "\n",
        "# 전환율 계산\n",
        "view_to_cart_conversion = (cart_count / view_count) * 100 if view_count > 0 else 0\n",
        "cart_to_purchase_conversion = (purchase_count / cart_count) * 100 if cart_count > 0 else 0\n",
        "cart_to_remove_count_conversion = (remove_count / cart_count) * 100 if cart_count > 0 else 0\n",
        "view_to_purchase = (purchase_count / view_count) * 100 if view_count > 0 else 0\n",
        "\n",
        "# 결과 출력\n",
        "print(f\"조회(View) 수: {view_count}\")\n",
        "print(f\"장바구니 추가(Cart) 수: {cart_count}\")\n",
        "print(f\"장바구니 제거(Remove from Cart) 수: {remove_count}\")\n",
        "print(f\"구매(Purchase) 수: {purchase_count}\\n\")\n",
        "\n",
        "print(f\"조회에서 장바구니 추가로의 전환율: {view_to_cart_conversion:.2f}%\")\n",
        "print(f\"장바구니에서 구매로의 전환율: {cart_to_purchase_conversion:.2f}%\\n\")\n",
        "print(f\"장바구니에서 제거로의 전환율: {cart_to_remove_count_conversion:.2f}%\\n\")\n",
        "print(f\"조회에서 구매로의 전환율: {view_to_purchase:.2f}%\")"
      ],
      "metadata": {
        "id": "-l6wfP_kPFhj",
        "colab": {
          "base_uri": "https://localhost:8080/"
        },
        "outputId": "b57f3fee-d21f-442e-cd53-501547e295c7"
      },
      "execution_count": null,
      "outputs": [
        {
          "output_type": "stream",
          "name": "stdout",
          "text": [
            "조회(View) 수: 991272\n",
            "장바구니 추가(Cart) 수: 507071\n",
            "장바구니 제거(Remove from Cart) 수: 272859\n",
            "구매(Purchase) 수: 120285\n",
            "\n",
            "조회에서 장바구니 추가로의 전환율: 51.15%\n",
            "장바구니에서 구매로의 전환율: 23.72%\n",
            "\n",
            "장바구니에서 제거로의 전환율: 53.81%\n",
            "\n",
            "조회에서 구매로의 전환율: 12.13%\n"
          ]
        }
      ]
    },
    {
      "cell_type": "markdown",
      "source": [
        "- view - cart - purchase\n",
        "> 조회에서 장바구니 추가로의 전환율: 50.91%\n",
        "> 장바구니에서 구매로의 전환율: 23.63%\n",
        "\n",
        "- view - cart - remove_from_cart\n",
        "> 조회에서 장바구니 추가로의 전환율: 50.91%\n",
        "> 장바구니에서 제거로의 전환율: 53.79%\n",
        "\n",
        "- view - purchase\n",
        "> 조회에서 구매로의 전환율: 12.03%"
      ],
      "metadata": {
        "id": "WQBMD2mMu2uq"
      }
    },
    {
      "cell_type": "code",
      "source": [
        "import pandas as pd\n",
        "import plotly.graph_objects as go\n",
        "from plotly.subplots import make_subplots\n",
        "\n",
        "# 데이터 준비\n",
        "view_count = event_counts.get('view', 0)\n",
        "cart_count = event_counts.get('cart', 0)\n",
        "purchase_count = event_counts.get('purchase', 0)\n",
        "remove_count = event_counts.get('remove_from_cart', 0)\n",
        "\n",
        "# 전환율 계산\n",
        "view_to_cart_conversion = (cart_count / view_count) * 100 if view_count > 0 else 0\n",
        "cart_to_purchase_conversion = (purchase_count / cart_count) * 100 if cart_count > 0 else 0\n",
        "cart_to_remove_conversion = (remove_count / cart_count) * 100 if cart_count > 0 else 0\n",
        "\n",
        "# 퍼널 데이터 준비\n",
        "funnel_data_1 = {\n",
        "    '단계': ['조회(View)', '장바구니 추가(Cart)', '구매(Purchase)'],\n",
        "    '수량': [view_count, cart_count, purchase_count],\n",
        "    '전환율': [None, view_to_cart_conversion, cart_to_purchase_conversion]\n",
        "}\n",
        "\n",
        "funnel_data_2 = {\n",
        "    '단계': ['조회(View)', '장바구니 추가(Cart)', '장바구니에서 제거(Remove From Cart)'],\n",
        "    '수량': [view_count, cart_count, remove_count],\n",
        "    '전환율': [None, view_to_cart_conversion, cart_to_remove_conversion]\n",
        "}\n",
        "\n",
        "# 데이터프레임 생성\n",
        "funnel_df_1 = pd.DataFrame(funnel_data_1)\n",
        "funnel_df_2 = pd.DataFrame(funnel_data_2)\n",
        "\n",
        "# 서브플롯 생성\n",
        "fig = make_subplots(rows=1, cols=2, subplot_titles=(\"View - Cart - Purchase\", \"View - Cart - Remove From Cart\"))\n",
        "\n",
        "# 첫 번째 퍼널 차트 추가\n",
        "fig.add_trace(\n",
        "    go.Funnel(y=funnel_df_1['단계'], x=funnel_df_1['수량'], textinfo=\"value+percent initial\"),\n",
        "    row=1, col=1\n",
        ")\n",
        "\n",
        "# 두 번째 퍼널 차트 추가\n",
        "fig.add_trace(\n",
        "    go.Funnel(y=funnel_df_2['단계'], x=funnel_df_2['수량'], textinfo=\"value+percent initial\"),\n",
        "    row=1, col=2\n",
        ")\n",
        "\n",
        "# 레이아웃 업데이트\n",
        "fig.update_layout(title_text=\"전환율 분석\", showlegend=False)\n",
        "\n",
        "# 그래프 표시\n",
        "fig.show()"
      ],
      "metadata": {
        "colab": {
          "base_uri": "https://localhost:8080/",
          "height": 542
        },
        "id": "EdayPv82ysbx",
        "outputId": "f5c40fbf-bb4b-42c6-f9d7-473d9e9a1dfc"
      },
      "execution_count": null,
      "outputs": [
        {
          "output_type": "display_data",
          "data": {
            "text/html": [
              "<html>\n",
              "<head><meta charset=\"utf-8\" /></head>\n",
              "<body>\n",
              "    <div>            <script src=\"https://cdnjs.cloudflare.com/ajax/libs/mathjax/2.7.5/MathJax.js?config=TeX-AMS-MML_SVG\"></script><script type=\"text/javascript\">if (window.MathJax && window.MathJax.Hub && window.MathJax.Hub.Config) {window.MathJax.Hub.Config({SVG: {font: \"STIX-Web\"}});}</script>                <script type=\"text/javascript\">window.PlotlyConfig = {MathJaxConfig: 'local'};</script>\n",
              "        <script charset=\"utf-8\" src=\"https://cdn.plot.ly/plotly-2.35.2.min.js\"></script>                <div id=\"187338ce-931c-4127-ba3d-16e4db1b115b\" class=\"plotly-graph-div\" style=\"height:525px; width:100%;\"></div>            <script type=\"text/javascript\">                                    window.PLOTLYENV=window.PLOTLYENV || {};                                    if (document.getElementById(\"187338ce-931c-4127-ba3d-16e4db1b115b\")) {                    Plotly.newPlot(                        \"187338ce-931c-4127-ba3d-16e4db1b115b\",                        [{\"textinfo\":\"value+percent initial\",\"x\":[991272,507071,120285],\"y\":[\"조회(View)\",\"장바구니 추가(Cart)\",\"구매(Purchase)\"],\"type\":\"funnel\",\"xaxis\":\"x\",\"yaxis\":\"y\"},{\"textinfo\":\"value+percent initial\",\"x\":[991272,507071,272859],\"y\":[\"조회(View)\",\"장바구니 추가(Cart)\",\"장바구니에서 제거(Remove From Cart)\"],\"type\":\"funnel\",\"xaxis\":\"x2\",\"yaxis\":\"y2\"}],                        {\"template\":{\"data\":{\"histogram2dcontour\":[{\"type\":\"histogram2dcontour\",\"colorbar\":{\"outlinewidth\":0,\"ticks\":\"\"},\"colorscale\":[[0.0,\"#0d0887\"],[0.1111111111111111,\"#46039f\"],[0.2222222222222222,\"#7201a8\"],[0.3333333333333333,\"#9c179e\"],[0.4444444444444444,\"#bd3786\"],[0.5555555555555556,\"#d8576b\"],[0.6666666666666666,\"#ed7953\"],[0.7777777777777778,\"#fb9f3a\"],[0.8888888888888888,\"#fdca26\"],[1.0,\"#f0f921\"]]}],\"choropleth\":[{\"type\":\"choropleth\",\"colorbar\":{\"outlinewidth\":0,\"ticks\":\"\"}}],\"histogram2d\":[{\"type\":\"histogram2d\",\"colorbar\":{\"outlinewidth\":0,\"ticks\":\"\"},\"colorscale\":[[0.0,\"#0d0887\"],[0.1111111111111111,\"#46039f\"],[0.2222222222222222,\"#7201a8\"],[0.3333333333333333,\"#9c179e\"],[0.4444444444444444,\"#bd3786\"],[0.5555555555555556,\"#d8576b\"],[0.6666666666666666,\"#ed7953\"],[0.7777777777777778,\"#fb9f3a\"],[0.8888888888888888,\"#fdca26\"],[1.0,\"#f0f921\"]]}],\"heatmap\":[{\"type\":\"heatmap\",\"colorbar\":{\"outlinewidth\":0,\"ticks\":\"\"},\"colorscale\":[[0.0,\"#0d0887\"],[0.1111111111111111,\"#46039f\"],[0.2222222222222222,\"#7201a8\"],[0.3333333333333333,\"#9c179e\"],[0.4444444444444444,\"#bd3786\"],[0.5555555555555556,\"#d8576b\"],[0.6666666666666666,\"#ed7953\"],[0.7777777777777778,\"#fb9f3a\"],[0.8888888888888888,\"#fdca26\"],[1.0,\"#f0f921\"]]}],\"heatmapgl\":[{\"type\":\"heatmapgl\",\"colorbar\":{\"outlinewidth\":0,\"ticks\":\"\"},\"colorscale\":[[0.0,\"#0d0887\"],[0.1111111111111111,\"#46039f\"],[0.2222222222222222,\"#7201a8\"],[0.3333333333333333,\"#9c179e\"],[0.4444444444444444,\"#bd3786\"],[0.5555555555555556,\"#d8576b\"],[0.6666666666666666,\"#ed7953\"],[0.7777777777777778,\"#fb9f3a\"],[0.8888888888888888,\"#fdca26\"],[1.0,\"#f0f921\"]]}],\"contourcarpet\":[{\"type\":\"contourcarpet\",\"colorbar\":{\"outlinewidth\":0,\"ticks\":\"\"}}],\"contour\":[{\"type\":\"contour\",\"colorbar\":{\"outlinewidth\":0,\"ticks\":\"\"},\"colorscale\":[[0.0,\"#0d0887\"],[0.1111111111111111,\"#46039f\"],[0.2222222222222222,\"#7201a8\"],[0.3333333333333333,\"#9c179e\"],[0.4444444444444444,\"#bd3786\"],[0.5555555555555556,\"#d8576b\"],[0.6666666666666666,\"#ed7953\"],[0.7777777777777778,\"#fb9f3a\"],[0.8888888888888888,\"#fdca26\"],[1.0,\"#f0f921\"]]}],\"surface\":[{\"type\":\"surface\",\"colorbar\":{\"outlinewidth\":0,\"ticks\":\"\"},\"colorscale\":[[0.0,\"#0d0887\"],[0.1111111111111111,\"#46039f\"],[0.2222222222222222,\"#7201a8\"],[0.3333333333333333,\"#9c179e\"],[0.4444444444444444,\"#bd3786\"],[0.5555555555555556,\"#d8576b\"],[0.6666666666666666,\"#ed7953\"],[0.7777777777777778,\"#fb9f3a\"],[0.8888888888888888,\"#fdca26\"],[1.0,\"#f0f921\"]]}],\"mesh3d\":[{\"type\":\"mesh3d\",\"colorbar\":{\"outlinewidth\":0,\"ticks\":\"\"}}],\"scatter\":[{\"fillpattern\":{\"fillmode\":\"overlay\",\"size\":10,\"solidity\":0.2},\"type\":\"scatter\"}],\"parcoords\":[{\"type\":\"parcoords\",\"line\":{\"colorbar\":{\"outlinewidth\":0,\"ticks\":\"\"}}}],\"scatterpolargl\":[{\"type\":\"scatterpolargl\",\"marker\":{\"colorbar\":{\"outlinewidth\":0,\"ticks\":\"\"}}}],\"bar\":[{\"error_x\":{\"color\":\"#2a3f5f\"},\"error_y\":{\"color\":\"#2a3f5f\"},\"marker\":{\"line\":{\"color\":\"#E5ECF6\",\"width\":0.5},\"pattern\":{\"fillmode\":\"overlay\",\"size\":10,\"solidity\":0.2}},\"type\":\"bar\"}],\"scattergeo\":[{\"type\":\"scattergeo\",\"marker\":{\"colorbar\":{\"outlinewidth\":0,\"ticks\":\"\"}}}],\"scatterpolar\":[{\"type\":\"scatterpolar\",\"marker\":{\"colorbar\":{\"outlinewidth\":0,\"ticks\":\"\"}}}],\"histogram\":[{\"marker\":{\"pattern\":{\"fillmode\":\"overlay\",\"size\":10,\"solidity\":0.2}},\"type\":\"histogram\"}],\"scattergl\":[{\"type\":\"scattergl\",\"marker\":{\"colorbar\":{\"outlinewidth\":0,\"ticks\":\"\"}}}],\"scatter3d\":[{\"type\":\"scatter3d\",\"line\":{\"colorbar\":{\"outlinewidth\":0,\"ticks\":\"\"}},\"marker\":{\"colorbar\":{\"outlinewidth\":0,\"ticks\":\"\"}}}],\"scattermapbox\":[{\"type\":\"scattermapbox\",\"marker\":{\"colorbar\":{\"outlinewidth\":0,\"ticks\":\"\"}}}],\"scatterternary\":[{\"type\":\"scatterternary\",\"marker\":{\"colorbar\":{\"outlinewidth\":0,\"ticks\":\"\"}}}],\"scattercarpet\":[{\"type\":\"scattercarpet\",\"marker\":{\"colorbar\":{\"outlinewidth\":0,\"ticks\":\"\"}}}],\"carpet\":[{\"aaxis\":{\"endlinecolor\":\"#2a3f5f\",\"gridcolor\":\"white\",\"linecolor\":\"white\",\"minorgridcolor\":\"white\",\"startlinecolor\":\"#2a3f5f\"},\"baxis\":{\"endlinecolor\":\"#2a3f5f\",\"gridcolor\":\"white\",\"linecolor\":\"white\",\"minorgridcolor\":\"white\",\"startlinecolor\":\"#2a3f5f\"},\"type\":\"carpet\"}],\"table\":[{\"cells\":{\"fill\":{\"color\":\"#EBF0F8\"},\"line\":{\"color\":\"white\"}},\"header\":{\"fill\":{\"color\":\"#C8D4E3\"},\"line\":{\"color\":\"white\"}},\"type\":\"table\"}],\"barpolar\":[{\"marker\":{\"line\":{\"color\":\"#E5ECF6\",\"width\":0.5},\"pattern\":{\"fillmode\":\"overlay\",\"size\":10,\"solidity\":0.2}},\"type\":\"barpolar\"}],\"pie\":[{\"automargin\":true,\"type\":\"pie\"}]},\"layout\":{\"autotypenumbers\":\"strict\",\"colorway\":[\"#636efa\",\"#EF553B\",\"#00cc96\",\"#ab63fa\",\"#FFA15A\",\"#19d3f3\",\"#FF6692\",\"#B6E880\",\"#FF97FF\",\"#FECB52\"],\"font\":{\"color\":\"#2a3f5f\"},\"hovermode\":\"closest\",\"hoverlabel\":{\"align\":\"left\"},\"paper_bgcolor\":\"white\",\"plot_bgcolor\":\"#E5ECF6\",\"polar\":{\"bgcolor\":\"#E5ECF6\",\"angularaxis\":{\"gridcolor\":\"white\",\"linecolor\":\"white\",\"ticks\":\"\"},\"radialaxis\":{\"gridcolor\":\"white\",\"linecolor\":\"white\",\"ticks\":\"\"}},\"ternary\":{\"bgcolor\":\"#E5ECF6\",\"aaxis\":{\"gridcolor\":\"white\",\"linecolor\":\"white\",\"ticks\":\"\"},\"baxis\":{\"gridcolor\":\"white\",\"linecolor\":\"white\",\"ticks\":\"\"},\"caxis\":{\"gridcolor\":\"white\",\"linecolor\":\"white\",\"ticks\":\"\"}},\"coloraxis\":{\"colorbar\":{\"outlinewidth\":0,\"ticks\":\"\"}},\"colorscale\":{\"sequential\":[[0.0,\"#0d0887\"],[0.1111111111111111,\"#46039f\"],[0.2222222222222222,\"#7201a8\"],[0.3333333333333333,\"#9c179e\"],[0.4444444444444444,\"#bd3786\"],[0.5555555555555556,\"#d8576b\"],[0.6666666666666666,\"#ed7953\"],[0.7777777777777778,\"#fb9f3a\"],[0.8888888888888888,\"#fdca26\"],[1.0,\"#f0f921\"]],\"sequentialminus\":[[0.0,\"#0d0887\"],[0.1111111111111111,\"#46039f\"],[0.2222222222222222,\"#7201a8\"],[0.3333333333333333,\"#9c179e\"],[0.4444444444444444,\"#bd3786\"],[0.5555555555555556,\"#d8576b\"],[0.6666666666666666,\"#ed7953\"],[0.7777777777777778,\"#fb9f3a\"],[0.8888888888888888,\"#fdca26\"],[1.0,\"#f0f921\"]],\"diverging\":[[0,\"#8e0152\"],[0.1,\"#c51b7d\"],[0.2,\"#de77ae\"],[0.3,\"#f1b6da\"],[0.4,\"#fde0ef\"],[0.5,\"#f7f7f7\"],[0.6,\"#e6f5d0\"],[0.7,\"#b8e186\"],[0.8,\"#7fbc41\"],[0.9,\"#4d9221\"],[1,\"#276419\"]]},\"xaxis\":{\"gridcolor\":\"white\",\"linecolor\":\"white\",\"ticks\":\"\",\"title\":{\"standoff\":15},\"zerolinecolor\":\"white\",\"automargin\":true,\"zerolinewidth\":2},\"yaxis\":{\"gridcolor\":\"white\",\"linecolor\":\"white\",\"ticks\":\"\",\"title\":{\"standoff\":15},\"zerolinecolor\":\"white\",\"automargin\":true,\"zerolinewidth\":2},\"scene\":{\"xaxis\":{\"backgroundcolor\":\"#E5ECF6\",\"gridcolor\":\"white\",\"linecolor\":\"white\",\"showbackground\":true,\"ticks\":\"\",\"zerolinecolor\":\"white\",\"gridwidth\":2},\"yaxis\":{\"backgroundcolor\":\"#E5ECF6\",\"gridcolor\":\"white\",\"linecolor\":\"white\",\"showbackground\":true,\"ticks\":\"\",\"zerolinecolor\":\"white\",\"gridwidth\":2},\"zaxis\":{\"backgroundcolor\":\"#E5ECF6\",\"gridcolor\":\"white\",\"linecolor\":\"white\",\"showbackground\":true,\"ticks\":\"\",\"zerolinecolor\":\"white\",\"gridwidth\":2}},\"shapedefaults\":{\"line\":{\"color\":\"#2a3f5f\"}},\"annotationdefaults\":{\"arrowcolor\":\"#2a3f5f\",\"arrowhead\":0,\"arrowwidth\":1},\"geo\":{\"bgcolor\":\"white\",\"landcolor\":\"#E5ECF6\",\"subunitcolor\":\"white\",\"showland\":true,\"showlakes\":true,\"lakecolor\":\"white\"},\"title\":{\"x\":0.05},\"mapbox\":{\"style\":\"light\"}}},\"xaxis\":{\"anchor\":\"y\",\"domain\":[0.0,0.45]},\"yaxis\":{\"anchor\":\"x\",\"domain\":[0.0,1.0]},\"xaxis2\":{\"anchor\":\"y2\",\"domain\":[0.55,1.0]},\"yaxis2\":{\"anchor\":\"x2\",\"domain\":[0.0,1.0]},\"annotations\":[{\"font\":{\"size\":16},\"showarrow\":false,\"text\":\"View - Cart - Purchase\",\"x\":0.225,\"xanchor\":\"center\",\"xref\":\"paper\",\"y\":1.0,\"yanchor\":\"bottom\",\"yref\":\"paper\"},{\"font\":{\"size\":16},\"showarrow\":false,\"text\":\"View - Cart - Remove From Cart\",\"x\":0.775,\"xanchor\":\"center\",\"xref\":\"paper\",\"y\":1.0,\"yanchor\":\"bottom\",\"yref\":\"paper\"}],\"title\":{\"text\":\"전환율 분석\"},\"showlegend\":false},                        {\"responsive\": true}                    ).then(function(){\n",
              "                            \n",
              "var gd = document.getElementById('187338ce-931c-4127-ba3d-16e4db1b115b');\n",
              "var x = new MutationObserver(function (mutations, observer) {{\n",
              "        var display = window.getComputedStyle(gd).display;\n",
              "        if (!display || display === 'none') {{\n",
              "            console.log([gd, 'removed!']);\n",
              "            Plotly.purge(gd);\n",
              "            observer.disconnect();\n",
              "        }}\n",
              "}});\n",
              "\n",
              "// Listen for the removal of the full notebook cells\n",
              "var notebookContainer = gd.closest('#notebook-container');\n",
              "if (notebookContainer) {{\n",
              "    x.observe(notebookContainer, {childList: true});\n",
              "}}\n",
              "\n",
              "// Listen for the clearing of the current output cell\n",
              "var outputEl = gd.closest('.output');\n",
              "if (outputEl) {{\n",
              "    x.observe(outputEl, {childList: true});\n",
              "}}\n",
              "\n",
              "                        })                };                            </script>        </div>\n",
              "</body>\n",
              "</html>"
            ]
          },
          "metadata": {}
        }
      ]
    },
    {
      "cell_type": "markdown",
      "source": [
        "- Cart에서 Purchase의 전환율이 23% / View page에서 Purchase까지의 전환율 12%임을 확인\n",
        "> Cart에서 Purchase의 전환율을 증가시키는 것이 필요하다는 것을 알 수 있음\n",
        "\n",
        "- Remove From Cart Funnel에서 볼 수 있듯이 구매보다 장바구니에서 제거되는 물건이 많다는 것을 확인 할 수 있음"
      ],
      "metadata": {
        "id": "dxKQ5niF22Ix"
      }
    },
    {
      "cell_type": "markdown",
      "source": [
        "2. 세션별 퍼널 분석"
      ],
      "metadata": {
        "id": "yhwAcMZG1MuG"
      }
    },
    {
      "cell_type": "markdown",
      "source": [
        "2.1 view - cart - purchase 과정을 거쳐온 session\n",
        "\n",
        "\n",
        "\n",
        "\n",
        "\n"
      ],
      "metadata": {
        "id": "yrrp0mhK1wXS"
      }
    },
    {
      "cell_type": "code",
      "source": [
        "# 세션별 이벤트 정렬\n",
        "df.sort_values(by=['user_session', 'event_time'], inplace=True)\n",
        "brand_analysis_data = []\n",
        "\n",
        "# 세션별로 이벤트를 분석\n",
        "for session_id, group in df.groupby('user_session'):\n",
        "    events = group['event_type'].tolist()\n",
        "\n",
        "    # view -> cart -> purchase 순서로 정확히 일치하는 세션만 분석\n",
        "    if events == ['view', 'cart', 'purchase']:\n",
        "        # 구매 이벤트 행 선택\n",
        "        purchase_row = group[group['event_type'] == 'purchase'].iloc[0]\n",
        "        brand_analysis_data.append({\n",
        "            'brand': purchase_row['brand'],\n",
        "            'price': purchase_row['price']\n",
        "        })\n",
        "\n",
        "brand_analysis_df = pd.DataFrame(brand_analysis_data)\n",
        "\n",
        "# 구매가 많은 10개 브랜드 추출\n",
        "brand_purchase_counts = brand_analysis_df['brand'].value_counts()\n",
        "top_10_brands = brand_purchase_counts.head(10)\n",
        "\n",
        "# 판매액이 높은 10개 브랜드 추출\n",
        "total_sales_by_brand = brand_analysis_df.groupby('brand')['price'].sum()\n",
        "top_10_sales_brands = total_sales_by_brand.nlargest(10)\n",
        "\n",
        "plt.figure(figsize=(14, 6))\n",
        "\n",
        "# 가장 많이 구매한 상위 10개 브랜드\n",
        "plt.subplot(1, 2, 1)\n",
        "sns.barplot(x=top_10_brands.index, y=top_10_brands.values, palette='viridis')\n",
        "plt.title(\"Top 10 most purchased brands\\n(View -> Cart -> Purchase)\")\n",
        "plt.xlabel(\"brand\")\n",
        "plt.ylabel(\"number of purchase\")\n",
        "plt.xticks(rotation=45)\n",
        "\n",
        "# 판매액이 높은 10개 브랜드\n",
        "plt.subplot(1, 2, 2)\n",
        "sns.barplot(x=top_10_sales_brands.index, y=top_10_sales_brands.values, palette='magma')\n",
        "plt.title(\"Top 10 brands with highest sales\\n(View -> Cart -> Purchase)\")\n",
        "plt.xlabel(\"brand\")\n",
        "plt.ylabel(\"average purchase amount\")\n",
        "plt.xticks(rotation=45)\n",
        "\n",
        "plt.tight_layout()\n",
        "plt.show()"
      ],
      "metadata": {
        "colab": {
          "base_uri": "https://localhost:8080/",
          "height": 743
        },
        "id": "WwoOEMrp0KKG",
        "outputId": "43c24bb8-057f-4d9a-df73-1a4591038db3"
      },
      "execution_count": null,
      "outputs": [
        {
          "output_type": "stream",
          "name": "stderr",
          "text": [
            "<ipython-input-74-c0e55c1dc251>:32: FutureWarning:\n",
            "\n",
            "\n",
            "\n",
            "Passing `palette` without assigning `hue` is deprecated and will be removed in v0.14.0. Assign the `x` variable to `hue` and set `legend=False` for the same effect.\n",
            "\n",
            "\n",
            "<ipython-input-74-c0e55c1dc251>:40: FutureWarning:\n",
            "\n",
            "\n",
            "\n",
            "Passing `palette` without assigning `hue` is deprecated and will be removed in v0.14.0. Assign the `x` variable to `hue` and set `legend=False` for the same effect.\n",
            "\n",
            "\n"
          ]
        },
        {
          "output_type": "display_data",
          "data": {
            "text/plain": [
              "<Figure size 1400x600 with 2 Axes>"
            ],
            "image/png": "[encoded data removed]"
          },
          "metadata": {}
        }
      ]
    },
    {
      "cell_type": "markdown",
      "source": [
        "-> view - cart - purchase 과정을 거쳐온 session 유저들은\n",
        "- runail - estel - irisk - italwax - jessnail 순으로 구매를 많이 한 것을 확인\n",
        "- runail - jessnail - strong - irisk - marathon 순으로 판매 금액이 높은 것을 확인"
      ],
      "metadata": {
        "id": "_tlawzPvSWqd"
      }
    },
    {
      "cell_type": "code",
      "source": [
        "# 전체 세션 수 계산\n",
        "total_sessions = df['user_session'].nunique()\n",
        "\n",
        "# 각 단계별 세션 수 계산\n",
        "view_sessions = df[df['event_type'] == 'view']['user_session'].nunique()\n",
        "cart_sessions = df[df['event_type'] == 'cart']['user_session'].nunique()\n",
        "purchase_sessions = len(brand_analysis_data)\n",
        "\n",
        "# Plotly Funnel Chart\n",
        "fig = go.Figure(go.Funnel(\n",
        "    y = ['Total Sessions', 'View', 'Cart', 'Purchase'],\n",
        "    x = [total_sessions, view_sessions, cart_sessions, purchase_sessions],\n",
        "    textinfo = \"value+percent initial\"\n",
        "))\n",
        "\n",
        "fig.update_layout(\n",
        "    title='Conversion Funnel (View -> Cart -> Purchase)',\n",
        "    height=500,\n",
        "    width=700\n",
        ")\n",
        "\n",
        "fig.show()"
      ],
      "metadata": {
        "colab": {
          "base_uri": "https://localhost:8080/",
          "height": 517
        },
        "id": "9tIOv5-lR4He",
        "outputId": "216e2969-f18c-4f4f-ab64-ae107d014ac3"
      },
      "execution_count": null,
      "outputs": [
        {
          "output_type": "display_data",
          "data": {
            "text/html": [
              "<html>\n",
              "<head><meta charset=\"utf-8\" /></head>\n",
              "<body>\n",
              "    <div>            <script src=\"https://cdnjs.cloudflare.com/ajax/libs/mathjax/2.7.5/MathJax.js?config=TeX-AMS-MML_SVG\"></script><script type=\"text/javascript\">if (window.MathJax && window.MathJax.Hub && window.MathJax.Hub.Config) {window.MathJax.Hub.Config({SVG: {font: \"STIX-Web\"}});}</script>                <script type=\"text/javascript\">window.PlotlyConfig = {MathJaxConfig: 'local'};</script>\n",
              "        <script charset=\"utf-8\" src=\"https://cdn.plot.ly/plotly-2.35.2.min.js\"></script>                <div id=\"da685b0d-fbef-4cab-9aa8-ff99ecbb1e68\" class=\"plotly-graph-div\" style=\"height:500px; width:700px;\"></div>            <script type=\"text/javascript\">                                    window.PLOTLYENV=window.PLOTLYENV || {};                                    if (document.getElementById(\"da685b0d-fbef-4cab-9aa8-ff99ecbb1e68\")) {                    Plotly.newPlot(                        \"da685b0d-fbef-4cab-9aa8-ff99ecbb1e68\",                        [{\"textinfo\":\"value+percent initial\",\"x\":[553059,506840,119686,532],\"y\":[\"Total Sessions\",\"View\",\"Cart\",\"Purchase\"],\"type\":\"funnel\"}],                        {\"template\":{\"data\":{\"histogram2dcontour\":[{\"type\":\"histogram2dcontour\",\"colorbar\":{\"outlinewidth\":0,\"ticks\":\"\"},\"colorscale\":[[0.0,\"#0d0887\"],[0.1111111111111111,\"#46039f\"],[0.2222222222222222,\"#7201a8\"],[0.3333333333333333,\"#9c179e\"],[0.4444444444444444,\"#bd3786\"],[0.5555555555555556,\"#d8576b\"],[0.6666666666666666,\"#ed7953\"],[0.7777777777777778,\"#fb9f3a\"],[0.8888888888888888,\"#fdca26\"],[1.0,\"#f0f921\"]]}],\"choropleth\":[{\"type\":\"choropleth\",\"colorbar\":{\"outlinewidth\":0,\"ticks\":\"\"}}],\"histogram2d\":[{\"type\":\"histogram2d\",\"colorbar\":{\"outlinewidth\":0,\"ticks\":\"\"},\"colorscale\":[[0.0,\"#0d0887\"],[0.1111111111111111,\"#46039f\"],[0.2222222222222222,\"#7201a8\"],[0.3333333333333333,\"#9c179e\"],[0.4444444444444444,\"#bd3786\"],[0.5555555555555556,\"#d8576b\"],[0.6666666666666666,\"#ed7953\"],[0.7777777777777778,\"#fb9f3a\"],[0.8888888888888888,\"#fdca26\"],[1.0,\"#f0f921\"]]}],\"heatmap\":[{\"type\":\"heatmap\",\"colorbar\":{\"outlinewidth\":0,\"ticks\":\"\"},\"colorscale\":[[0.0,\"#0d0887\"],[0.1111111111111111,\"#46039f\"],[0.2222222222222222,\"#7201a8\"],[0.3333333333333333,\"#9c179e\"],[0.4444444444444444,\"#bd3786\"],[0.5555555555555556,\"#d8576b\"],[0.6666666666666666,\"#ed7953\"],[0.7777777777777778,\"#fb9f3a\"],[0.8888888888888888,\"#fdca26\"],[1.0,\"#f0f921\"]]}],\"heatmapgl\":[{\"type\":\"heatmapgl\",\"colorbar\":{\"outlinewidth\":0,\"ticks\":\"\"},\"colorscale\":[[0.0,\"#0d0887\"],[0.1111111111111111,\"#46039f\"],[0.2222222222222222,\"#7201a8\"],[0.3333333333333333,\"#9c179e\"],[0.4444444444444444,\"#bd3786\"],[0.5555555555555556,\"#d8576b\"],[0.6666666666666666,\"#ed7953\"],[0.7777777777777778,\"#fb9f3a\"],[0.8888888888888888,\"#fdca26\"],[1.0,\"#f0f921\"]]}],\"contourcarpet\":[{\"type\":\"contourcarpet\",\"colorbar\":{\"outlinewidth\":0,\"ticks\":\"\"}}],\"contour\":[{\"type\":\"contour\",\"colorbar\":{\"outlinewidth\":0,\"ticks\":\"\"},\"colorscale\":[[0.0,\"#0d0887\"],[0.1111111111111111,\"#46039f\"],[0.2222222222222222,\"#7201a8\"],[0.3333333333333333,\"#9c179e\"],[0.4444444444444444,\"#bd3786\"],[0.5555555555555556,\"#d8576b\"],[0.6666666666666666,\"#ed7953\"],[0.7777777777777778,\"#fb9f3a\"],[0.8888888888888888,\"#fdca26\"],[1.0,\"#f0f921\"]]}],\"surface\":[{\"type\":\"surface\",\"colorbar\":{\"outlinewidth\":0,\"ticks\":\"\"},\"colorscale\":[[0.0,\"#0d0887\"],[0.1111111111111111,\"#46039f\"],[0.2222222222222222,\"#7201a8\"],[0.3333333333333333,\"#9c179e\"],[0.4444444444444444,\"#bd3786\"],[0.5555555555555556,\"#d8576b\"],[0.6666666666666666,\"#ed7953\"],[0.7777777777777778,\"#fb9f3a\"],[0.8888888888888888,\"#fdca26\"],[1.0,\"#f0f921\"]]}],\"mesh3d\":[{\"type\":\"mesh3d\",\"colorbar\":{\"outlinewidth\":0,\"ticks\":\"\"}}],\"scatter\":[{\"fillpattern\":{\"fillmode\":\"overlay\",\"size\":10,\"solidity\":0.2},\"type\":\"scatter\"}],\"parcoords\":[{\"type\":\"parcoords\",\"line\":{\"colorbar\":{\"outlinewidth\":0,\"ticks\":\"\"}}}],\"scatterpolargl\":[{\"type\":\"scatterpolargl\",\"marker\":{\"colorbar\":{\"outlinewidth\":0,\"ticks\":\"\"}}}],\"bar\":[{\"error_x\":{\"color\":\"#2a3f5f\"},\"error_y\":{\"color\":\"#2a3f5f\"},\"marker\":{\"line\":{\"color\":\"#E5ECF6\",\"width\":0.5},\"pattern\":{\"fillmode\":\"overlay\",\"size\":10,\"solidity\":0.2}},\"type\":\"bar\"}],\"scattergeo\":[{\"type\":\"scattergeo\",\"marker\":{\"colorbar\":{\"outlinewidth\":0,\"ticks\":\"\"}}}],\"scatterpolar\":[{\"type\":\"scatterpolar\",\"marker\":{\"colorbar\":{\"outlinewidth\":0,\"ticks\":\"\"}}}],\"histogram\":[{\"marker\":{\"pattern\":{\"fillmode\":\"overlay\",\"size\":10,\"solidity\":0.2}},\"type\":\"histogram\"}],\"scattergl\":[{\"type\":\"scattergl\",\"marker\":{\"colorbar\":{\"outlinewidth\":0,\"ticks\":\"\"}}}],\"scatter3d\":[{\"type\":\"scatter3d\",\"line\":{\"colorbar\":{\"outlinewidth\":0,\"ticks\":\"\"}},\"marker\":{\"colorbar\":{\"outlinewidth\":0,\"ticks\":\"\"}}}],\"scattermapbox\":[{\"type\":\"scattermapbox\",\"marker\":{\"colorbar\":{\"outlinewidth\":0,\"ticks\":\"\"}}}],\"scatterternary\":[{\"type\":\"scatterternary\",\"marker\":{\"colorbar\":{\"outlinewidth\":0,\"ticks\":\"\"}}}],\"scattercarpet\":[{\"type\":\"scattercarpet\",\"marker\":{\"colorbar\":{\"outlinewidth\":0,\"ticks\":\"\"}}}],\"carpet\":[{\"aaxis\":{\"endlinecolor\":\"#2a3f5f\",\"gridcolor\":\"white\",\"linecolor\":\"white\",\"minorgridcolor\":\"white\",\"startlinecolor\":\"#2a3f5f\"},\"baxis\":{\"endlinecolor\":\"#2a3f5f\",\"gridcolor\":\"white\",\"linecolor\":\"white\",\"minorgridcolor\":\"white\",\"startlinecolor\":\"#2a3f5f\"},\"type\":\"carpet\"}],\"table\":[{\"cells\":{\"fill\":{\"color\":\"#EBF0F8\"},\"line\":{\"color\":\"white\"}},\"header\":{\"fill\":{\"color\":\"#C8D4E3\"},\"line\":{\"color\":\"white\"}},\"type\":\"table\"}],\"barpolar\":[{\"marker\":{\"line\":{\"color\":\"#E5ECF6\",\"width\":0.5},\"pattern\":{\"fillmode\":\"overlay\",\"size\":10,\"solidity\":0.2}},\"type\":\"barpolar\"}],\"pie\":[{\"automargin\":true,\"type\":\"pie\"}]},\"layout\":{\"autotypenumbers\":\"strict\",\"colorway\":[\"#636efa\",\"#EF553B\",\"#00cc96\",\"#ab63fa\",\"#FFA15A\",\"#19d3f3\",\"#FF6692\",\"#B6E880\",\"#FF97FF\",\"#FECB52\"],\"font\":{\"color\":\"#2a3f5f\"},\"hovermode\":\"closest\",\"hoverlabel\":{\"align\":\"left\"},\"paper_bgcolor\":\"white\",\"plot_bgcolor\":\"#E5ECF6\",\"polar\":{\"bgcolor\":\"#E5ECF6\",\"angularaxis\":{\"gridcolor\":\"white\",\"linecolor\":\"white\",\"ticks\":\"\"},\"radialaxis\":{\"gridcolor\":\"white\",\"linecolor\":\"white\",\"ticks\":\"\"}},\"ternary\":{\"bgcolor\":\"#E5ECF6\",\"aaxis\":{\"gridcolor\":\"white\",\"linecolor\":\"white\",\"ticks\":\"\"},\"baxis\":{\"gridcolor\":\"white\",\"linecolor\":\"white\",\"ticks\":\"\"},\"caxis\":{\"gridcolor\":\"white\",\"linecolor\":\"white\",\"ticks\":\"\"}},\"coloraxis\":{\"colorbar\":{\"outlinewidth\":0,\"ticks\":\"\"}},\"colorscale\":{\"sequential\":[[0.0,\"#0d0887\"],[0.1111111111111111,\"#46039f\"],[0.2222222222222222,\"#7201a8\"],[0.3333333333333333,\"#9c179e\"],[0.4444444444444444,\"#bd3786\"],[0.5555555555555556,\"#d8576b\"],[0.6666666666666666,\"#ed7953\"],[0.7777777777777778,\"#fb9f3a\"],[0.8888888888888888,\"#fdca26\"],[1.0,\"#f0f921\"]],\"sequentialminus\":[[0.0,\"#0d0887\"],[0.1111111111111111,\"#46039f\"],[0.2222222222222222,\"#7201a8\"],[0.3333333333333333,\"#9c179e\"],[0.4444444444444444,\"#bd3786\"],[0.5555555555555556,\"#d8576b\"],[0.6666666666666666,\"#ed7953\"],[0.7777777777777778,\"#fb9f3a\"],[0.8888888888888888,\"#fdca26\"],[1.0,\"#f0f921\"]],\"diverging\":[[0,\"#8e0152\"],[0.1,\"#c51b7d\"],[0.2,\"#de77ae\"],[0.3,\"#f1b6da\"],[0.4,\"#fde0ef\"],[0.5,\"#f7f7f7\"],[0.6,\"#e6f5d0\"],[0.7,\"#b8e186\"],[0.8,\"#7fbc41\"],[0.9,\"#4d9221\"],[1,\"#276419\"]]},\"xaxis\":{\"gridcolor\":\"white\",\"linecolor\":\"white\",\"ticks\":\"\",\"title\":{\"standoff\":15},\"zerolinecolor\":\"white\",\"automargin\":true,\"zerolinewidth\":2},\"yaxis\":{\"gridcolor\":\"white\",\"linecolor\":\"white\",\"ticks\":\"\",\"title\":{\"standoff\":15},\"zerolinecolor\":\"white\",\"automargin\":true,\"zerolinewidth\":2},\"scene\":{\"xaxis\":{\"backgroundcolor\":\"#E5ECF6\",\"gridcolor\":\"white\",\"linecolor\":\"white\",\"showbackground\":true,\"ticks\":\"\",\"zerolinecolor\":\"white\",\"gridwidth\":2},\"yaxis\":{\"backgroundcolor\":\"#E5ECF6\",\"gridcolor\":\"white\",\"linecolor\":\"white\",\"showbackground\":true,\"ticks\":\"\",\"zerolinecolor\":\"white\",\"gridwidth\":2},\"zaxis\":{\"backgroundcolor\":\"#E5ECF6\",\"gridcolor\":\"white\",\"linecolor\":\"white\",\"showbackground\":true,\"ticks\":\"\",\"zerolinecolor\":\"white\",\"gridwidth\":2}},\"shapedefaults\":{\"line\":{\"color\":\"#2a3f5f\"}},\"annotationdefaults\":{\"arrowcolor\":\"#2a3f5f\",\"arrowhead\":0,\"arrowwidth\":1},\"geo\":{\"bgcolor\":\"white\",\"landcolor\":\"#E5ECF6\",\"subunitcolor\":\"white\",\"showland\":true,\"showlakes\":true,\"lakecolor\":\"white\"},\"title\":{\"x\":0.05},\"mapbox\":{\"style\":\"light\"}}},\"title\":{\"text\":\"Conversion Funnel (View -\\u003e Cart -\\u003e Purchase)\"},\"height\":500,\"width\":700},                        {\"responsive\": true}                    ).then(function(){\n",
              "                            \n",
              "var gd = document.getElementById('da685b0d-fbef-4cab-9aa8-ff99ecbb1e68');\n",
              "var x = new MutationObserver(function (mutations, observer) {{\n",
              "        var display = window.getComputedStyle(gd).display;\n",
              "        if (!display || display === 'none') {{\n",
              "            console.log([gd, 'removed!']);\n",
              "            Plotly.purge(gd);\n",
              "            observer.disconnect();\n",
              "        }}\n",
              "}});\n",
              "\n",
              "// Listen for the removal of the full notebook cells\n",
              "var notebookContainer = gd.closest('#notebook-container');\n",
              "if (notebookContainer) {{\n",
              "    x.observe(notebookContainer, {childList: true});\n",
              "}}\n",
              "\n",
              "// Listen for the clearing of the current output cell\n",
              "var outputEl = gd.closest('.output');\n",
              "if (outputEl) {{\n",
              "    x.observe(outputEl, {childList: true});\n",
              "}}\n",
              "\n",
              "                        })                };                            </script>        </div>\n",
              "</body>\n",
              "</html>"
            ]
          },
          "metadata": {}
        }
      ]
    },
    {
      "cell_type": "markdown",
      "source": [
        "- View에서 Cart로 넘어오는 과정에서 많은 이탈이 발생하는 것을 확인\n",
        "- Purchase로 이어지는 conversion rate은 매우 저조함"
      ],
      "metadata": {
        "id": "Z47KXmld0s03"
      }
    },
    {
      "cell_type": "markdown",
      "source": [
        "2.2 view - cart - remove_from_cart 과정을 거쳐온 session"
      ],
      "metadata": {
        "id": "2WN4FcOx0KOm"
      }
    },
    {
      "cell_type": "code",
      "source": [
        "# 세션별 이벤트 정렬\n",
        "df.sort_values(by=['user_session', 'event_time'], inplace=True)\n",
        "brand_analysis_data_remove = []\n",
        "\n",
        "# 세션별로 이벤트를 분석\n",
        "for session_id, group in df.groupby('user_session'):\n",
        "    events = group['event_type'].tolist()\n",
        "\n",
        "    # 'remove_from_cart'가 있는 세션만 분석\n",
        "    if 'remove_from_cart' in events:\n",
        "        # 마지막 'cart' 이벤트 행 선택\n",
        "        cart_rows = group[group['event_type'] == 'cart']\n",
        "        if not cart_rows.empty:\n",
        "            last_cart_row = cart_rows.iloc[-1]\n",
        "            brand_analysis_data_remove.append({\n",
        "                'brand': last_cart_row['brand'],\n",
        "                'price': last_cart_row['price']\n",
        "            })\n",
        "\n",
        "brand_analysis_df_remove = pd.DataFrame(brand_analysis_data_remove)\n",
        "\n",
        "# 제거가 많은 10개 브랜드 추출\n",
        "brand_remove_counts = brand_analysis_df_remove['brand'].value_counts()\n",
        "top_10_brands_remove = brand_remove_counts.head(10)\n",
        "\n",
        "# 제거된 상품의 브랜드별 평균 가격 계산\n",
        "brand_avg_prices = brand_analysis_df_remove.groupby('brand')['price'].mean()\n",
        "top_10_brands_remove_avg_prices = brand_avg_prices[top_10_brands_remove.index]\n",
        "\n",
        "# 그래프 그리기\n",
        "plt.figure(figsize=(14, 6))\n",
        "\n",
        "plt.subplot(1, 2, 1)\n",
        "sns.barplot(x=top_10_brands_remove.index, y=top_10_brands_remove.values, palette='viridis')\n",
        "plt.title(\"Top 10 brands most removed from cart\")\n",
        "plt.xlabel(\"Brand\")\n",
        "plt.ylabel(\"Number of cart removals\")\n",
        "plt.xticks(rotation=45)\n",
        "\n",
        "plt.subplot(1, 2, 2)\n",
        "sns.barplot(x=top_10_brands_remove_avg_prices.index, y=top_10_brands_remove_avg_prices.values, palette='magma')\n",
        "plt.title(\"Top 10 removed brands: Average cart price\")\n",
        "plt.xlabel(\"Brand\")\n",
        "plt.ylabel(\"Average cart price\")\n",
        "plt.xticks(rotation=45)\n",
        "\n",
        "plt.tight_layout()\n",
        "plt.show()"
      ],
      "metadata": {
        "colab": {
          "base_uri": "https://localhost:8080/",
          "height": 741
        },
        "id": "1XQSR2J60KWF",
        "outputId": "4509c995-1174-4fe3-f2f7-428b5ed8f82f"
      },
      "execution_count": null,
      "outputs": [
        {
          "output_type": "stream",
          "name": "stderr",
          "text": [
            "<ipython-input-76-257ab527c3da>:34: FutureWarning:\n",
            "\n",
            "\n",
            "\n",
            "Passing `palette` without assigning `hue` is deprecated and will be removed in v0.14.0. Assign the `x` variable to `hue` and set `legend=False` for the same effect.\n",
            "\n",
            "\n",
            "<ipython-input-76-257ab527c3da>:41: FutureWarning:\n",
            "\n",
            "\n",
            "\n",
            "Passing `palette` without assigning `hue` is deprecated and will be removed in v0.14.0. Assign the `x` variable to `hue` and set `legend=False` for the same effect.\n",
            "\n",
            "\n"
          ]
        },
        {
          "output_type": "display_data",
          "data": {
            "text/plain": [
              "<Figure size 1400x600 with 2 Axes>"
            ],
            "image/png": "[encoded data removed]"
          },
          "metadata": {}
        }
      ]
    },
    {
      "cell_type": "markdown",
      "source": [
        "-> view - cart - remove_from_cart 과정을 거쳐온 session\n",
        "- 장바구니 안에서 Runil - irisk - grattol - estel - masura 순으로 제거가 많이 일어난다는 것을 확인\n",
        "- 장바구니에서 제거가 많이 되는 브랜드의 제품 평균 가격을 확인해본 결과, 대부분 $10 아래로 구매로 이어진 브랜드의 평균보다 현저히 낮은것을 확인"
      ],
      "metadata": {
        "id": "cqMffkTIuq9s"
      }
    },
    {
      "cell_type": "code",
      "source": [
        "# 전체 세션 수 계산\n",
        "total_sessions = df['user_session'].nunique()\n",
        "\n",
        "# 각 단계별 세션 수 계산\n",
        "view_sessions = df[df['event_type'] == 'view']['user_session'].nunique()\n",
        "cart_sessions = df[df['event_type'] == 'cart']['user_session'].nunique()\n",
        "remove_sessions = df[df['event_type'] == 'remove_from_cart']['user_session'].nunique()\n",
        "\n",
        "# Plotly Funnel Chart\n",
        "fig = go.Figure(go.Funnel(\n",
        "    y = ['Total Sessions', 'View', 'Cart', 'Remove from Cart'],\n",
        "    x = [total_sessions, view_sessions, cart_sessions, remove_sessions],\n",
        "    textinfo = \"value+percent initial\"\n",
        "))\n",
        "\n",
        "fig.update_layout(\n",
        "    title='Conversion Funnel (Including Remove from Cart)',\n",
        "    height=500,\n",
        "    width=700\n",
        ")\n",
        "\n",
        "fig.show()"
      ],
      "metadata": {
        "colab": {
          "base_uri": "https://localhost:8080/",
          "height": 517
        },
        "id": "U6Yy_OamTtSO",
        "outputId": "a9c9ae49-8903-42f6-af9e-20eea1ed5588"
      },
      "execution_count": null,
      "outputs": [
        {
          "output_type": "display_data",
          "data": {
            "text/html": [
              "<html>\n",
              "<head><meta charset=\"utf-8\" /></head>\n",
              "<body>\n",
              "    <div>            <script src=\"https://cdnjs.cloudflare.com/ajax/libs/mathjax/2.7.5/MathJax.js?config=TeX-AMS-MML_SVG\"></script><script type=\"text/javascript\">if (window.MathJax && window.MathJax.Hub && window.MathJax.Hub.Config) {window.MathJax.Hub.Config({SVG: {font: \"STIX-Web\"}});}</script>                <script type=\"text/javascript\">window.PlotlyConfig = {MathJaxConfig: 'local'};</script>\n",
              "        <script charset=\"utf-8\" src=\"https://cdn.plot.ly/plotly-2.35.2.min.js\"></script>                <div id=\"3325c9ac-2978-45d5-9f43-d6f979a122ea\" class=\"plotly-graph-div\" style=\"height:500px; width:700px;\"></div>            <script type=\"text/javascript\">                                    window.PLOTLYENV=window.PLOTLYENV || {};                                    if (document.getElementById(\"3325c9ac-2978-45d5-9f43-d6f979a122ea\")) {                    Plotly.newPlot(                        \"3325c9ac-2978-45d5-9f43-d6f979a122ea\",                        [{\"textinfo\":\"value+percent initial\",\"x\":[553059,506840,119686,63896],\"y\":[\"Total Sessions\",\"View\",\"Cart\",\"Remove from Cart\"],\"type\":\"funnel\"}],                        {\"template\":{\"data\":{\"histogram2dcontour\":[{\"type\":\"histogram2dcontour\",\"colorbar\":{\"outlinewidth\":0,\"ticks\":\"\"},\"colorscale\":[[0.0,\"#0d0887\"],[0.1111111111111111,\"#46039f\"],[0.2222222222222222,\"#7201a8\"],[0.3333333333333333,\"#9c179e\"],[0.4444444444444444,\"#bd3786\"],[0.5555555555555556,\"#d8576b\"],[0.6666666666666666,\"#ed7953\"],[0.7777777777777778,\"#fb9f3a\"],[0.8888888888888888,\"#fdca26\"],[1.0,\"#f0f921\"]]}],\"choropleth\":[{\"type\":\"choropleth\",\"colorbar\":{\"outlinewidth\":0,\"ticks\":\"\"}}],\"histogram2d\":[{\"type\":\"histogram2d\",\"colorbar\":{\"outlinewidth\":0,\"ticks\":\"\"},\"colorscale\":[[0.0,\"#0d0887\"],[0.1111111111111111,\"#46039f\"],[0.2222222222222222,\"#7201a8\"],[0.3333333333333333,\"#9c179e\"],[0.4444444444444444,\"#bd3786\"],[0.5555555555555556,\"#d8576b\"],[0.6666666666666666,\"#ed7953\"],[0.7777777777777778,\"#fb9f3a\"],[0.8888888888888888,\"#fdca26\"],[1.0,\"#f0f921\"]]}],\"heatmap\":[{\"type\":\"heatmap\",\"colorbar\":{\"outlinewidth\":0,\"ticks\":\"\"},\"colorscale\":[[0.0,\"#0d0887\"],[0.1111111111111111,\"#46039f\"],[0.2222222222222222,\"#7201a8\"],[0.3333333333333333,\"#9c179e\"],[0.4444444444444444,\"#bd3786\"],[0.5555555555555556,\"#d8576b\"],[0.6666666666666666,\"#ed7953\"],[0.7777777777777778,\"#fb9f3a\"],[0.8888888888888888,\"#fdca26\"],[1.0,\"#f0f921\"]]}],\"heatmapgl\":[{\"type\":\"heatmapgl\",\"colorbar\":{\"outlinewidth\":0,\"ticks\":\"\"},\"colorscale\":[[0.0,\"#0d0887\"],[0.1111111111111111,\"#46039f\"],[0.2222222222222222,\"#7201a8\"],[0.3333333333333333,\"#9c179e\"],[0.4444444444444444,\"#bd3786\"],[0.5555555555555556,\"#d8576b\"],[0.6666666666666666,\"#ed7953\"],[0.7777777777777778,\"#fb9f3a\"],[0.8888888888888888,\"#fdca26\"],[1.0,\"#f0f921\"]]}],\"contourcarpet\":[{\"type\":\"contourcarpet\",\"colorbar\":{\"outlinewidth\":0,\"ticks\":\"\"}}],\"contour\":[{\"type\":\"contour\",\"colorbar\":{\"outlinewidth\":0,\"ticks\":\"\"},\"colorscale\":[[0.0,\"#0d0887\"],[0.1111111111111111,\"#46039f\"],[0.2222222222222222,\"#7201a8\"],[0.3333333333333333,\"#9c179e\"],[0.4444444444444444,\"#bd3786\"],[0.5555555555555556,\"#d8576b\"],[0.6666666666666666,\"#ed7953\"],[0.7777777777777778,\"#fb9f3a\"],[0.8888888888888888,\"#fdca26\"],[1.0,\"#f0f921\"]]}],\"surface\":[{\"type\":\"surface\",\"colorbar\":{\"outlinewidth\":0,\"ticks\":\"\"},\"colorscale\":[[0.0,\"#0d0887\"],[0.1111111111111111,\"#46039f\"],[0.2222222222222222,\"#7201a8\"],[0.3333333333333333,\"#9c179e\"],[0.4444444444444444,\"#bd3786\"],[0.5555555555555556,\"#d8576b\"],[0.6666666666666666,\"#ed7953\"],[0.7777777777777778,\"#fb9f3a\"],[0.8888888888888888,\"#fdca26\"],[1.0,\"#f0f921\"]]}],\"mesh3d\":[{\"type\":\"mesh3d\",\"colorbar\":{\"outlinewidth\":0,\"ticks\":\"\"}}],\"scatter\":[{\"fillpattern\":{\"fillmode\":\"overlay\",\"size\":10,\"solidity\":0.2},\"type\":\"scatter\"}],\"parcoords\":[{\"type\":\"parcoords\",\"line\":{\"colorbar\":{\"outlinewidth\":0,\"ticks\":\"\"}}}],\"scatterpolargl\":[{\"type\":\"scatterpolargl\",\"marker\":{\"colorbar\":{\"outlinewidth\":0,\"ticks\":\"\"}}}],\"bar\":[{\"error_x\":{\"color\":\"#2a3f5f\"},\"error_y\":{\"color\":\"#2a3f5f\"},\"marker\":{\"line\":{\"color\":\"#E5ECF6\",\"width\":0.5},\"pattern\":{\"fillmode\":\"overlay\",\"size\":10,\"solidity\":0.2}},\"type\":\"bar\"}],\"scattergeo\":[{\"type\":\"scattergeo\",\"marker\":{\"colorbar\":{\"outlinewidth\":0,\"ticks\":\"\"}}}],\"scatterpolar\":[{\"type\":\"scatterpolar\",\"marker\":{\"colorbar\":{\"outlinewidth\":0,\"ticks\":\"\"}}}],\"histogram\":[{\"marker\":{\"pattern\":{\"fillmode\":\"overlay\",\"size\":10,\"solidity\":0.2}},\"type\":\"histogram\"}],\"scattergl\":[{\"type\":\"scattergl\",\"marker\":{\"colorbar\":{\"outlinewidth\":0,\"ticks\":\"\"}}}],\"scatter3d\":[{\"type\":\"scatter3d\",\"line\":{\"colorbar\":{\"outlinewidth\":0,\"ticks\":\"\"}},\"marker\":{\"colorbar\":{\"outlinewidth\":0,\"ticks\":\"\"}}}],\"scattermapbox\":[{\"type\":\"scattermapbox\",\"marker\":{\"colorbar\":{\"outlinewidth\":0,\"ticks\":\"\"}}}],\"scatterternary\":[{\"type\":\"scatterternary\",\"marker\":{\"colorbar\":{\"outlinewidth\":0,\"ticks\":\"\"}}}],\"scattercarpet\":[{\"type\":\"scattercarpet\",\"marker\":{\"colorbar\":{\"outlinewidth\":0,\"ticks\":\"\"}}}],\"carpet\":[{\"aaxis\":{\"endlinecolor\":\"#2a3f5f\",\"gridcolor\":\"white\",\"linecolor\":\"white\",\"minorgridcolor\":\"white\",\"startlinecolor\":\"#2a3f5f\"},\"baxis\":{\"endlinecolor\":\"#2a3f5f\",\"gridcolor\":\"white\",\"linecolor\":\"white\",\"minorgridcolor\":\"white\",\"startlinecolor\":\"#2a3f5f\"},\"type\":\"carpet\"}],\"table\":[{\"cells\":{\"fill\":{\"color\":\"#EBF0F8\"},\"line\":{\"color\":\"white\"}},\"header\":{\"fill\":{\"color\":\"#C8D4E3\"},\"line\":{\"color\":\"white\"}},\"type\":\"table\"}],\"barpolar\":[{\"marker\":{\"line\":{\"color\":\"#E5ECF6\",\"width\":0.5},\"pattern\":{\"fillmode\":\"overlay\",\"size\":10,\"solidity\":0.2}},\"type\":\"barpolar\"}],\"pie\":[{\"automargin\":true,\"type\":\"pie\"}]},\"layout\":{\"autotypenumbers\":\"strict\",\"colorway\":[\"#636efa\",\"#EF553B\",\"#00cc96\",\"#ab63fa\",\"#FFA15A\",\"#19d3f3\",\"#FF6692\",\"#B6E880\",\"#FF97FF\",\"#FECB52\"],\"font\":{\"color\":\"#2a3f5f\"},\"hovermode\":\"closest\",\"hoverlabel\":{\"align\":\"left\"},\"paper_bgcolor\":\"white\",\"plot_bgcolor\":\"#E5ECF6\",\"polar\":{\"bgcolor\":\"#E5ECF6\",\"angularaxis\":{\"gridcolor\":\"white\",\"linecolor\":\"white\",\"ticks\":\"\"},\"radialaxis\":{\"gridcolor\":\"white\",\"linecolor\":\"white\",\"ticks\":\"\"}},\"ternary\":{\"bgcolor\":\"#E5ECF6\",\"aaxis\":{\"gridcolor\":\"white\",\"linecolor\":\"white\",\"ticks\":\"\"},\"baxis\":{\"gridcolor\":\"white\",\"linecolor\":\"white\",\"ticks\":\"\"},\"caxis\":{\"gridcolor\":\"white\",\"linecolor\":\"white\",\"ticks\":\"\"}},\"coloraxis\":{\"colorbar\":{\"outlinewidth\":0,\"ticks\":\"\"}},\"colorscale\":{\"sequential\":[[0.0,\"#0d0887\"],[0.1111111111111111,\"#46039f\"],[0.2222222222222222,\"#7201a8\"],[0.3333333333333333,\"#9c179e\"],[0.4444444444444444,\"#bd3786\"],[0.5555555555555556,\"#d8576b\"],[0.6666666666666666,\"#ed7953\"],[0.7777777777777778,\"#fb9f3a\"],[0.8888888888888888,\"#fdca26\"],[1.0,\"#f0f921\"]],\"sequentialminus\":[[0.0,\"#0d0887\"],[0.1111111111111111,\"#46039f\"],[0.2222222222222222,\"#7201a8\"],[0.3333333333333333,\"#9c179e\"],[0.4444444444444444,\"#bd3786\"],[0.5555555555555556,\"#d8576b\"],[0.6666666666666666,\"#ed7953\"],[0.7777777777777778,\"#fb9f3a\"],[0.8888888888888888,\"#fdca26\"],[1.0,\"#f0f921\"]],\"diverging\":[[0,\"#8e0152\"],[0.1,\"#c51b7d\"],[0.2,\"#de77ae\"],[0.3,\"#f1b6da\"],[0.4,\"#fde0ef\"],[0.5,\"#f7f7f7\"],[0.6,\"#e6f5d0\"],[0.7,\"#b8e186\"],[0.8,\"#7fbc41\"],[0.9,\"#4d9221\"],[1,\"#276419\"]]},\"xaxis\":{\"gridcolor\":\"white\",\"linecolor\":\"white\",\"ticks\":\"\",\"title\":{\"standoff\":15},\"zerolinecolor\":\"white\",\"automargin\":true,\"zerolinewidth\":2},\"yaxis\":{\"gridcolor\":\"white\",\"linecolor\":\"white\",\"ticks\":\"\",\"title\":{\"standoff\":15},\"zerolinecolor\":\"white\",\"automargin\":true,\"zerolinewidth\":2},\"scene\":{\"xaxis\":{\"backgroundcolor\":\"#E5ECF6\",\"gridcolor\":\"white\",\"linecolor\":\"white\",\"showbackground\":true,\"ticks\":\"\",\"zerolinecolor\":\"white\",\"gridwidth\":2},\"yaxis\":{\"backgroundcolor\":\"#E5ECF6\",\"gridcolor\":\"white\",\"linecolor\":\"white\",\"showbackground\":true,\"ticks\":\"\",\"zerolinecolor\":\"white\",\"gridwidth\":2},\"zaxis\":{\"backgroundcolor\":\"#E5ECF6\",\"gridcolor\":\"white\",\"linecolor\":\"white\",\"showbackground\":true,\"ticks\":\"\",\"zerolinecolor\":\"white\",\"gridwidth\":2}},\"shapedefaults\":{\"line\":{\"color\":\"#2a3f5f\"}},\"annotationdefaults\":{\"arrowcolor\":\"#2a3f5f\",\"arrowhead\":0,\"arrowwidth\":1},\"geo\":{\"bgcolor\":\"white\",\"landcolor\":\"#E5ECF6\",\"subunitcolor\":\"white\",\"showland\":true,\"showlakes\":true,\"lakecolor\":\"white\"},\"title\":{\"x\":0.05},\"mapbox\":{\"style\":\"light\"}}},\"title\":{\"text\":\"Conversion Funnel (Including Remove from Cart)\"},\"height\":500,\"width\":700},                        {\"responsive\": true}                    ).then(function(){\n",
              "                            \n",
              "var gd = document.getElementById('3325c9ac-2978-45d5-9f43-d6f979a122ea');\n",
              "var x = new MutationObserver(function (mutations, observer) {{\n",
              "        var display = window.getComputedStyle(gd).display;\n",
              "        if (!display || display === 'none') {{\n",
              "            console.log([gd, 'removed!']);\n",
              "            Plotly.purge(gd);\n",
              "            observer.disconnect();\n",
              "        }}\n",
              "}});\n",
              "\n",
              "// Listen for the removal of the full notebook cells\n",
              "var notebookContainer = gd.closest('#notebook-container');\n",
              "if (notebookContainer) {{\n",
              "    x.observe(notebookContainer, {childList: true});\n",
              "}}\n",
              "\n",
              "// Listen for the clearing of the current output cell\n",
              "var outputEl = gd.closest('.output');\n",
              "if (outputEl) {{\n",
              "    x.observe(outputEl, {childList: true});\n",
              "}}\n",
              "\n",
              "                        })                };                            </script>        </div>\n",
              "</body>\n",
              "</html>"
            ]
          },
          "metadata": {}
        }
      ]
    },
    {
      "cell_type": "markdown",
      "source": [
        "2.3 view - purchase 과정을 거쳐온 session"
      ],
      "metadata": {
        "id": "lr1mkvMF0KZi"
      }
    },
    {
      "cell_type": "code",
      "source": [
        "# 세션별 이벤트 정렬\n",
        "df.sort_values(by=['user_session', 'event_time'], inplace=True)\n",
        "brand_analysis_data_direct = []\n",
        "\n",
        "# 세션별로 이벤트를 분석\n",
        "for session_id, group in df.groupby('user_session'):\n",
        "    events = group['event_type'].tolist()\n",
        "\n",
        "    # view -> purchase 순서로 정확히 일치하는 세션만 분석\n",
        "    if events == ['view', 'purchase']:\n",
        "        # 구매 이벤트 행 선택\n",
        "        purchase_row = group[group['event_type'] == 'purchase'].iloc[0]\n",
        "        brand_analysis_data_direct.append({\n",
        "            'brand': purchase_row['brand'],\n",
        "            'price': purchase_row['price']\n",
        "        })\n",
        "\n",
        "brand_analysis_df_direct = pd.DataFrame(brand_analysis_data_direct)\n",
        "\n",
        "# 직접 구매가 많은 10개 브랜드 추출\n",
        "brand_purchase_counts_direct = brand_analysis_df_direct['brand'].value_counts()\n",
        "top_10_brands_direct = brand_purchase_counts_direct.head(10)\n",
        "\n",
        "# 직접 구매 판매액이 높은 10개 브랜드 추출\n",
        "total_sales_by_brand_direct = brand_analysis_df_direct.groupby('brand')['price'].sum()\n",
        "top_10_sales_brands_direct = total_sales_by_brand_direct.nlargest(10)\n",
        "\n",
        "plt.figure(figsize=(14, 6))\n",
        "\n",
        "# 가장 많이 직접 구매한 상위 10개 브랜드\n",
        "plt.subplot(1, 2, 1)\n",
        "sns.barplot(x=top_10_brands_direct.index, y=top_10_brands_direct.values, palette='viridis')\n",
        "plt.title(\"Top 10 most directly purchased brands\\n(View -> Purchase)\")\n",
        "plt.xlabel(\"Brand\")\n",
        "plt.ylabel(\"Number of direct purchases\")\n",
        "plt.xticks(rotation=45)\n",
        "\n",
        "# 직접 구매 판매액이 높은 10개 브랜드\n",
        "plt.subplot(1, 2, 2)\n",
        "sns.barplot(x=top_10_sales_brands_direct.index, y=top_10_sales_brands_direct.values, palette='magma')\n",
        "plt.title(\"Top 10 brands with highest direct purchase sales\\n(View -> Purchase)\")\n",
        "plt.xlabel(\"Brand\")\n",
        "plt.ylabel(\"Total direct purchase sales\")\n",
        "plt.xticks(rotation=45)\n",
        "\n",
        "plt.tight_layout()\n",
        "plt.show()"
      ],
      "metadata": {
        "colab": {
          "base_uri": "https://localhost:8080/",
          "height": 741
        },
        "id": "Zm5PpdxKLSZD",
        "outputId": "7ad0fb4e-65b7-4dd1-d1f7-8634bad09f27"
      },
      "execution_count": null,
      "outputs": [
        {
          "output_type": "stream",
          "name": "stderr",
          "text": [
            "<ipython-input-78-57004970d073>:32: FutureWarning:\n",
            "\n",
            "\n",
            "\n",
            "Passing `palette` without assigning `hue` is deprecated and will be removed in v0.14.0. Assign the `x` variable to `hue` and set `legend=False` for the same effect.\n",
            "\n",
            "\n",
            "<ipython-input-78-57004970d073>:40: FutureWarning:\n",
            "\n",
            "\n",
            "\n",
            "Passing `palette` without assigning `hue` is deprecated and will be removed in v0.14.0. Assign the `x` variable to `hue` and set `legend=False` for the same effect.\n",
            "\n",
            "\n"
          ]
        },
        {
          "output_type": "display_data",
          "data": {
            "text/plain": [
              "<Figure size 1400x600 with 2 Axes>"
            ],
            "image/png": "[encoded data removed]"
          },
          "metadata": {}
        }
      ]
    },
    {
      "cell_type": "markdown",
      "source": [
        "-> view - purchase 과정을 거쳐온 session 유저들은\n",
        "- runail - estel - concept - italwax - yoko 순으로 판매를 많이하는 것을 확인\n",
        "- strong - runail - jessnail - max - solomeya 순으로 판매 금액이 높은 것을 확인"
      ],
      "metadata": {
        "id": "i176yzXbSx1F"
      }
    },
    {
      "cell_type": "markdown",
      "source": [
        "view page애서 purchase로 이어지는 session에 대한 전환율 확인"
      ],
      "metadata": {
        "id": "eNPHQMyqMGYH"
      }
    },
    {
      "cell_type": "code",
      "source": [
        "# 데이터프레임 정렬\n",
        "df.sort_values(by=['user_session', 'event_time'], inplace=True)\n",
        "\n",
        "# view, cart, purchase 이벤트를 필터링\n",
        "df['is_view'] = df['event_type'] == 'view'\n",
        "df['is_cart'] = df['event_type'] == 'cart'\n",
        "df['is_purchase'] = df['event_type'] == 'purchase'\n",
        "\n",
        "# view 이벤트 다음에 cart, purchase가 있는지 확인\n",
        "df['next_event_is_purchase'] = df['is_purchase'].shift(-1)\n",
        "df['next_event_is_cart'] = df['is_cart'].shift(-1)\n",
        "\n",
        "df['next_event_is_cart'].fillna(False, inplace=True)\n",
        "df['next_event_is_purchase'].fillna(False, inplace=True)\n",
        "\n",
        "# 조건을 만족하는 세션 찾기\n",
        "valid_sessions = df[(df['is_view']) & (df['next_event_is_purchase']) & (~df['next_event_is_cart'])]['user_session'].unique()\n",
        "\n",
        "VP_filtered_df = df[df['user_session'].isin(valid_sessions)]\n",
        "\n",
        "views_in_filtered = VP_filtered_df['is_view'].sum()\n",
        "purchases_in_filtered = VP_filtered_df['is_purchase'].sum()\n",
        "\n",
        "# Conversion rate 계산 (0으로 나누기 방지)\n",
        "conversion_rate = (purchases_in_filtered / views_in_filtered * 100) if views_in_filtered > 0 else 0\n",
        "print(f\"View to Purchase Conversion Rate: {conversion_rate:.2f}%\")"
      ],
      "metadata": {
        "colab": {
          "base_uri": "https://localhost:8080/"
        },
        "id": "oS481PIo0Kc0",
        "outputId": "74fc5052-bbf4-473d-95aa-0bc44cc510c7"
      },
      "execution_count": null,
      "outputs": [
        {
          "output_type": "stream",
          "name": "stderr",
          "text": [
            "<ipython-input-79-2ad482548cb9>:13: FutureWarning:\n",
            "\n",
            "A value is trying to be set on a copy of a DataFrame or Series through chained assignment using an inplace method.\n",
            "The behavior will change in pandas 3.0. This inplace method will never work because the intermediate object on which we are setting values always behaves as a copy.\n",
            "\n",
            "For example, when doing 'df[col].method(value, inplace=True)', try using 'df.method({col: value}, inplace=True)' or df[col] = df[col].method(value) instead, to perform the operation inplace on the original object.\n",
            "\n",
            "\n",
            "\n",
            "<ipython-input-79-2ad482548cb9>:13: FutureWarning:\n",
            "\n",
            "Downcasting object dtype arrays on .fillna, .ffill, .bfill is deprecated and will change in a future version. Call result.infer_objects(copy=False) instead. To opt-in to the future behavior, set `pd.set_option('future.no_silent_downcasting', True)`\n",
            "\n",
            "<ipython-input-79-2ad482548cb9>:14: FutureWarning:\n",
            "\n",
            "A value is trying to be set on a copy of a DataFrame or Series through chained assignment using an inplace method.\n",
            "The behavior will change in pandas 3.0. This inplace method will never work because the intermediate object on which we are setting values always behaves as a copy.\n",
            "\n",
            "For example, when doing 'df[col].method(value, inplace=True)', try using 'df.method({col: value}, inplace=True)' or df[col] = df[col].method(value) instead, to perform the operation inplace on the original object.\n",
            "\n",
            "\n",
            "\n",
            "<ipython-input-79-2ad482548cb9>:14: FutureWarning:\n",
            "\n",
            "Downcasting object dtype arrays on .fillna, .ffill, .bfill is deprecated and will change in a future version. Call result.infer_objects(copy=False) instead. To opt-in to the future behavior, set `pd.set_option('future.no_silent_downcasting', True)`\n",
            "\n"
          ]
        },
        {
          "output_type": "stream",
          "name": "stdout",
          "text": [
            "View to Purchase Conversion Rate: 60.06%\n"
          ]
        }
      ]
    },
    {
      "cell_type": "code",
      "source": [
        "# Plotly Funnel Chart\n",
        "fig = go.Figure(go.Funnel(\n",
        "    y =  ['Views', 'Purchases'],\n",
        "    x = [views_in_filtered, purchases_in_filtered],\n",
        "    textinfo = \"value+percent initial\"\n",
        "))\n",
        "\n",
        "fig.update_layout(\n",
        "    title='Conversion Funnel (View - Purchase)',\n",
        "    height=500,\n",
        "    width=700\n",
        ")\n",
        "\n",
        "fig.show()"
      ],
      "metadata": {
        "colab": {
          "base_uri": "https://localhost:8080/",
          "height": 517
        },
        "id": "Mmgsid_t0Kfq",
        "outputId": "df3b6ef3-d5cf-43de-ff4c-b497e9880b00"
      },
      "execution_count": null,
      "outputs": [
        {
          "output_type": "display_data",
          "data": {
            "text/html": [
              "<html>\n",
              "<head><meta charset=\"utf-8\" /></head>\n",
              "<body>\n",
              "    <div>            <script src=\"https://cdnjs.cloudflare.com/ajax/libs/mathjax/2.7.5/MathJax.js?config=TeX-AMS-MML_SVG\"></script><script type=\"text/javascript\">if (window.MathJax && window.MathJax.Hub && window.MathJax.Hub.Config) {window.MathJax.Hub.Config({SVG: {font: \"STIX-Web\"}});}</script>                <script type=\"text/javascript\">window.PlotlyConfig = {MathJaxConfig: 'local'};</script>\n",
              "        <script charset=\"utf-8\" src=\"https://cdn.plot.ly/plotly-2.35.2.min.js\"></script>                <div id=\"601b3e0e-edd1-40e0-8181-2b3a1a784adb\" class=\"plotly-graph-div\" style=\"height:500px; width:700px;\"></div>            <script type=\"text/javascript\">                                    window.PLOTLYENV=window.PLOTLYENV || {};                                    if (document.getElementById(\"601b3e0e-edd1-40e0-8181-2b3a1a784adb\")) {                    Plotly.newPlot(                        \"601b3e0e-edd1-40e0-8181-2b3a1a784adb\",                        [{\"textinfo\":\"value+percent initial\",\"x\":[37806,22705],\"y\":[\"Views\",\"Purchases\"],\"type\":\"funnel\"}],                        {\"template\":{\"data\":{\"histogram2dcontour\":[{\"type\":\"histogram2dcontour\",\"colorbar\":{\"outlinewidth\":0,\"ticks\":\"\"},\"colorscale\":[[0.0,\"#0d0887\"],[0.1111111111111111,\"#46039f\"],[0.2222222222222222,\"#7201a8\"],[0.3333333333333333,\"#9c179e\"],[0.4444444444444444,\"#bd3786\"],[0.5555555555555556,\"#d8576b\"],[0.6666666666666666,\"#ed7953\"],[0.7777777777777778,\"#fb9f3a\"],[0.8888888888888888,\"#fdca26\"],[1.0,\"#f0f921\"]]}],\"choropleth\":[{\"type\":\"choropleth\",\"colorbar\":{\"outlinewidth\":0,\"ticks\":\"\"}}],\"histogram2d\":[{\"type\":\"histogram2d\",\"colorbar\":{\"outlinewidth\":0,\"ticks\":\"\"},\"colorscale\":[[0.0,\"#0d0887\"],[0.1111111111111111,\"#46039f\"],[0.2222222222222222,\"#7201a8\"],[0.3333333333333333,\"#9c179e\"],[0.4444444444444444,\"#bd3786\"],[0.5555555555555556,\"#d8576b\"],[0.6666666666666666,\"#ed7953\"],[0.7777777777777778,\"#fb9f3a\"],[0.8888888888888888,\"#fdca26\"],[1.0,\"#f0f921\"]]}],\"heatmap\":[{\"type\":\"heatmap\",\"colorbar\":{\"outlinewidth\":0,\"ticks\":\"\"},\"colorscale\":[[0.0,\"#0d0887\"],[0.1111111111111111,\"#46039f\"],[0.2222222222222222,\"#7201a8\"],[0.3333333333333333,\"#9c179e\"],[0.4444444444444444,\"#bd3786\"],[0.5555555555555556,\"#d8576b\"],[0.6666666666666666,\"#ed7953\"],[0.7777777777777778,\"#fb9f3a\"],[0.8888888888888888,\"#fdca26\"],[1.0,\"#f0f921\"]]}],\"heatmapgl\":[{\"type\":\"heatmapgl\",\"colorbar\":{\"outlinewidth\":0,\"ticks\":\"\"},\"colorscale\":[[0.0,\"#0d0887\"],[0.1111111111111111,\"#46039f\"],[0.2222222222222222,\"#7201a8\"],[0.3333333333333333,\"#9c179e\"],[0.4444444444444444,\"#bd3786\"],[0.5555555555555556,\"#d8576b\"],[0.6666666666666666,\"#ed7953\"],[0.7777777777777778,\"#fb9f3a\"],[0.8888888888888888,\"#fdca26\"],[1.0,\"#f0f921\"]]}],\"contourcarpet\":[{\"type\":\"contourcarpet\",\"colorbar\":{\"outlinewidth\":0,\"ticks\":\"\"}}],\"contour\":[{\"type\":\"contour\",\"colorbar\":{\"outlinewidth\":0,\"ticks\":\"\"},\"colorscale\":[[0.0,\"#0d0887\"],[0.1111111111111111,\"#46039f\"],[0.2222222222222222,\"#7201a8\"],[0.3333333333333333,\"#9c179e\"],[0.4444444444444444,\"#bd3786\"],[0.5555555555555556,\"#d8576b\"],[0.6666666666666666,\"#ed7953\"],[0.7777777777777778,\"#fb9f3a\"],[0.8888888888888888,\"#fdca26\"],[1.0,\"#f0f921\"]]}],\"surface\":[{\"type\":\"surface\",\"colorbar\":{\"outlinewidth\":0,\"ticks\":\"\"},\"colorscale\":[[0.0,\"#0d0887\"],[0.1111111111111111,\"#46039f\"],[0.2222222222222222,\"#7201a8\"],[0.3333333333333333,\"#9c179e\"],[0.4444444444444444,\"#bd3786\"],[0.5555555555555556,\"#d8576b\"],[0.6666666666666666,\"#ed7953\"],[0.7777777777777778,\"#fb9f3a\"],[0.8888888888888888,\"#fdca26\"],[1.0,\"#f0f921\"]]}],\"mesh3d\":[{\"type\":\"mesh3d\",\"colorbar\":{\"outlinewidth\":0,\"ticks\":\"\"}}],\"scatter\":[{\"fillpattern\":{\"fillmode\":\"overlay\",\"size\":10,\"solidity\":0.2},\"type\":\"scatter\"}],\"parcoords\":[{\"type\":\"parcoords\",\"line\":{\"colorbar\":{\"outlinewidth\":0,\"ticks\":\"\"}}}],\"scatterpolargl\":[{\"type\":\"scatterpolargl\",\"marker\":{\"colorbar\":{\"outlinewidth\":0,\"ticks\":\"\"}}}],\"bar\":[{\"error_x\":{\"color\":\"#2a3f5f\"},\"error_y\":{\"color\":\"#2a3f5f\"},\"marker\":{\"line\":{\"color\":\"#E5ECF6\",\"width\":0.5},\"pattern\":{\"fillmode\":\"overlay\",\"size\":10,\"solidity\":0.2}},\"type\":\"bar\"}],\"scattergeo\":[{\"type\":\"scattergeo\",\"marker\":{\"colorbar\":{\"outlinewidth\":0,\"ticks\":\"\"}}}],\"scatterpolar\":[{\"type\":\"scatterpolar\",\"marker\":{\"colorbar\":{\"outlinewidth\":0,\"ticks\":\"\"}}}],\"histogram\":[{\"marker\":{\"pattern\":{\"fillmode\":\"overlay\",\"size\":10,\"solidity\":0.2}},\"type\":\"histogram\"}],\"scattergl\":[{\"type\":\"scattergl\",\"marker\":{\"colorbar\":{\"outlinewidth\":0,\"ticks\":\"\"}}}],\"scatter3d\":[{\"type\":\"scatter3d\",\"line\":{\"colorbar\":{\"outlinewidth\":0,\"ticks\":\"\"}},\"marker\":{\"colorbar\":{\"outlinewidth\":0,\"ticks\":\"\"}}}],\"scattermapbox\":[{\"type\":\"scattermapbox\",\"marker\":{\"colorbar\":{\"outlinewidth\":0,\"ticks\":\"\"}}}],\"scatterternary\":[{\"type\":\"scatterternary\",\"marker\":{\"colorbar\":{\"outlinewidth\":0,\"ticks\":\"\"}}}],\"scattercarpet\":[{\"type\":\"scattercarpet\",\"marker\":{\"colorbar\":{\"outlinewidth\":0,\"ticks\":\"\"}}}],\"carpet\":[{\"aaxis\":{\"endlinecolor\":\"#2a3f5f\",\"gridcolor\":\"white\",\"linecolor\":\"white\",\"minorgridcolor\":\"white\",\"startlinecolor\":\"#2a3f5f\"},\"baxis\":{\"endlinecolor\":\"#2a3f5f\",\"gridcolor\":\"white\",\"linecolor\":\"white\",\"minorgridcolor\":\"white\",\"startlinecolor\":\"#2a3f5f\"},\"type\":\"carpet\"}],\"table\":[{\"cells\":{\"fill\":{\"color\":\"#EBF0F8\"},\"line\":{\"color\":\"white\"}},\"header\":{\"fill\":{\"color\":\"#C8D4E3\"},\"line\":{\"color\":\"white\"}},\"type\":\"table\"}],\"barpolar\":[{\"marker\":{\"line\":{\"color\":\"#E5ECF6\",\"width\":0.5},\"pattern\":{\"fillmode\":\"overlay\",\"size\":10,\"solidity\":0.2}},\"type\":\"barpolar\"}],\"pie\":[{\"automargin\":true,\"type\":\"pie\"}]},\"layout\":{\"autotypenumbers\":\"strict\",\"colorway\":[\"#636efa\",\"#EF553B\",\"#00cc96\",\"#ab63fa\",\"#FFA15A\",\"#19d3f3\",\"#FF6692\",\"#B6E880\",\"#FF97FF\",\"#FECB52\"],\"font\":{\"color\":\"#2a3f5f\"},\"hovermode\":\"closest\",\"hoverlabel\":{\"align\":\"left\"},\"paper_bgcolor\":\"white\",\"plot_bgcolor\":\"#E5ECF6\",\"polar\":{\"bgcolor\":\"#E5ECF6\",\"angularaxis\":{\"gridcolor\":\"white\",\"linecolor\":\"white\",\"ticks\":\"\"},\"radialaxis\":{\"gridcolor\":\"white\",\"linecolor\":\"white\",\"ticks\":\"\"}},\"ternary\":{\"bgcolor\":\"#E5ECF6\",\"aaxis\":{\"gridcolor\":\"white\",\"linecolor\":\"white\",\"ticks\":\"\"},\"baxis\":{\"gridcolor\":\"white\",\"linecolor\":\"white\",\"ticks\":\"\"},\"caxis\":{\"gridcolor\":\"white\",\"linecolor\":\"white\",\"ticks\":\"\"}},\"coloraxis\":{\"colorbar\":{\"outlinewidth\":0,\"ticks\":\"\"}},\"colorscale\":{\"sequential\":[[0.0,\"#0d0887\"],[0.1111111111111111,\"#46039f\"],[0.2222222222222222,\"#7201a8\"],[0.3333333333333333,\"#9c179e\"],[0.4444444444444444,\"#bd3786\"],[0.5555555555555556,\"#d8576b\"],[0.6666666666666666,\"#ed7953\"],[0.7777777777777778,\"#fb9f3a\"],[0.8888888888888888,\"#fdca26\"],[1.0,\"#f0f921\"]],\"sequentialminus\":[[0.0,\"#0d0887\"],[0.1111111111111111,\"#46039f\"],[0.2222222222222222,\"#7201a8\"],[0.3333333333333333,\"#9c179e\"],[0.4444444444444444,\"#bd3786\"],[0.5555555555555556,\"#d8576b\"],[0.6666666666666666,\"#ed7953\"],[0.7777777777777778,\"#fb9f3a\"],[0.8888888888888888,\"#fdca26\"],[1.0,\"#f0f921\"]],\"diverging\":[[0,\"#8e0152\"],[0.1,\"#c51b7d\"],[0.2,\"#de77ae\"],[0.3,\"#f1b6da\"],[0.4,\"#fde0ef\"],[0.5,\"#f7f7f7\"],[0.6,\"#e6f5d0\"],[0.7,\"#b8e186\"],[0.8,\"#7fbc41\"],[0.9,\"#4d9221\"],[1,\"#276419\"]]},\"xaxis\":{\"gridcolor\":\"white\",\"linecolor\":\"white\",\"ticks\":\"\",\"title\":{\"standoff\":15},\"zerolinecolor\":\"white\",\"automargin\":true,\"zerolinewidth\":2},\"yaxis\":{\"gridcolor\":\"white\",\"linecolor\":\"white\",\"ticks\":\"\",\"title\":{\"standoff\":15},\"zerolinecolor\":\"white\",\"automargin\":true,\"zerolinewidth\":2},\"scene\":{\"xaxis\":{\"backgroundcolor\":\"#E5ECF6\",\"gridcolor\":\"white\",\"linecolor\":\"white\",\"showbackground\":true,\"ticks\":\"\",\"zerolinecolor\":\"white\",\"gridwidth\":2},\"yaxis\":{\"backgroundcolor\":\"#E5ECF6\",\"gridcolor\":\"white\",\"linecolor\":\"white\",\"showbackground\":true,\"ticks\":\"\",\"zerolinecolor\":\"white\",\"gridwidth\":2},\"zaxis\":{\"backgroundcolor\":\"#E5ECF6\",\"gridcolor\":\"white\",\"linecolor\":\"white\",\"showbackground\":true,\"ticks\":\"\",\"zerolinecolor\":\"white\",\"gridwidth\":2}},\"shapedefaults\":{\"line\":{\"color\":\"#2a3f5f\"}},\"annotationdefaults\":{\"arrowcolor\":\"#2a3f5f\",\"arrowhead\":0,\"arrowwidth\":1},\"geo\":{\"bgcolor\":\"white\",\"landcolor\":\"#E5ECF6\",\"subunitcolor\":\"white\",\"showland\":true,\"showlakes\":true,\"lakecolor\":\"white\"},\"title\":{\"x\":0.05},\"mapbox\":{\"style\":\"light\"}}},\"title\":{\"text\":\"Conversion Funnel (View - Purchase)\"},\"height\":500,\"width\":700},                        {\"responsive\": true}                    ).then(function(){\n",
              "                            \n",
              "var gd = document.getElementById('601b3e0e-edd1-40e0-8181-2b3a1a784adb');\n",
              "var x = new MutationObserver(function (mutations, observer) {{\n",
              "        var display = window.getComputedStyle(gd).display;\n",
              "        if (!display || display === 'none') {{\n",
              "            console.log([gd, 'removed!']);\n",
              "            Plotly.purge(gd);\n",
              "            observer.disconnect();\n",
              "        }}\n",
              "}});\n",
              "\n",
              "// Listen for the removal of the full notebook cells\n",
              "var notebookContainer = gd.closest('#notebook-container');\n",
              "if (notebookContainer) {{\n",
              "    x.observe(notebookContainer, {childList: true});\n",
              "}}\n",
              "\n",
              "// Listen for the clearing of the current output cell\n",
              "var outputEl = gd.closest('.output');\n",
              "if (outputEl) {{\n",
              "    x.observe(outputEl, {childList: true});\n",
              "}}\n",
              "\n",
              "                        })                };                            </script>        </div>\n",
              "</body>\n",
              "</html>"
            ]
          },
          "metadata": {}
        }
      ]
    },
    {
      "cell_type": "markdown",
      "source": [
        "> 한 세션의 구매 여정이 view - purchase에서 멈추는것이 아니라 view - purchase - cart - view 와 같은 형식으로 이어질 수 있기 때문에 purchase로의 전환율이 100%로가 될 수 없다.\n",
        "\n",
        "> 다시 말해, 우리는 view - purchase의 funnel을 거친 session을 필터링 했지만, 해당 session user가 반복적으로 똑같은 funnel을 거치지 않는다면 위와 같은 결과가 나타날 수 있음\n",
        "\n",
        "> -> 하지만, 이를 통해서 우리가 보고자하는 퍼널을 거친 session user들이 어떠한 경향성을 가지는지 파악 할 수 있음\n",
        "- View page에서 Purchase로 가는 여정에 해당하는 세션 유저들은 view - purchase의 높은 전환율(60%)을 보여주는 것을 알 수 있음"
      ],
      "metadata": {
        "id": "-lhJ2UnHzzTm"
      }
    },
    {
      "cell_type": "markdown",
      "source": [
        "3. 퍼널 분석 종합"
      ],
      "metadata": {
        "id": "8ogF2ypOdD9-"
      }
    },
    {
      "cell_type": "markdown",
      "source": [
        "- View에서 Cart로 넘어오는 과정에서 많은 이탈이 발생함\n",
        "- Cart에 담아두었던 제품 50%는 Cart에서 제거됨\n",
        "- 고객들이 구매하는 제품의 평균 금액은 카트에서 제거되는 제품의 평균 금액보다 높음\n",
        "- view - purchase의 여정을 가진 session 유저들은 Purchase로 전환될 확률이 매우 높음\n",
        "\n",
        "> 이를 토대로, 두가지 가설을 세움\n",
        "\n",
        "1. 소비자들이 구매하는 브랜드/제품의 평균 가격은 카트에서 제거되는 브랜드/제품의 평균 가격 보다 높다. (평균 가격의 차이가 유의미하다.)\n",
        "\n",
        "2. view 다음 소비자의 다음 행동이 구매로 이어질 경우, 제품을 구매할 확률이 높다."
      ],
      "metadata": {
        "id": "POWZim7bdWh7"
      }
    },
    {
      "cell_type": "markdown",
      "source": [
        "### **가설 검증 (t-test, 인과/상관관계 분석)**\n",
        "\n",
        "---\n",
        "\n"
      ],
      "metadata": {
        "id": "oGXRTOyljbaq"
      }
    },
    {
      "cell_type": "markdown",
      "source": [
        "1. '소비자들이 구매하는 브랜드/제품의 평균 가격은 카트에서 제거되는 브랜드/제품의 평균 가격 보다 높다. (평균 가격의 차이가 유의미하다.)'에 대한 가설 검증"
      ],
      "metadata": {
        "id": "a1skaQoBji-5"
      }
    },
    {
      "cell_type": "markdown",
      "source": [
        "아래 3가지 여정을 경험한 session을 구분\n",
        "1. view - cart - purchase\n",
        "2. view - cart - remove_from_cart\n",
        "3. view - purchase\n",
        "\n",
        "세 그룹이 구매하거나 카트에 담아두었던 제품의 평균값에 대한 차이가 유의미한지 가설 검증\n",
        "\n",
        "- 귀무가설(H0): 모든 그룹의 중앙값은 동일하다.\n",
        "- 대립가설(H1): 적어도 하나의 그룹의 중앙값이 다르다."
      ],
      "metadata": {
        "id": "3HII3Oj6_7Vf"
      }
    },
    {
      "cell_type": "code",
      "source": [
        "# 세션별 이벤트 정렬\n",
        "df.sort_values(by=['user_session', 'event_time'], inplace=True)\n",
        "\n",
        "# 구매 여정 정의\n",
        "journeys = {\n",
        "    'view_cart_purchase': [],\n",
        "    'view_cart_remove': [],\n",
        "    'view_purchase': []\n",
        "}\n",
        "\n",
        "# 세션별로 이벤트를 분석\n",
        "for session_id, group in df.groupby('user_session'):\n",
        "    events = group['event_type'].tolist()\n",
        "\n",
        "    if events == ['view', 'cart', 'purchase']:\n",
        "        journeys['view_cart_purchase'].append(group)\n",
        "\n",
        "    elif events == ['view', 'cart', 'remove_from_cart']:\n",
        "        journeys['view_cart_remove'].append(group)\n",
        "\n",
        "    elif events == ['view', 'purchase']:\n",
        "        journeys['view_purchase'].append(group)\n",
        "\n",
        "# 각 여정의 데이터프레임 생성\n",
        "# 세션마다 여러가지 복잡한 조합으로 구매 여정이 있겠지만 궁극적으로 찾고자 하는 3가지 여정으로 단순화해서 그룹화\n",
        "df_view_cart_purchase = pd.concat(journeys['view_cart_purchase'], ignore_index=True) if journeys['view_cart_purchase'] else pd.DataFrame()\n",
        "df_view_cart_remove = pd.concat(journeys['view_cart_remove'], ignore_index=True) if journeys['view_cart_remove'] else pd.DataFrame()\n",
        "df_view_purchase = pd.concat(journeys['view_purchase'], ignore_index=True) if journeys['view_purchase'] else pd.DataFrame()\n",
        "\n",
        "# 각 여정의 평균 가격 계산\n",
        "mean_prices = {\n",
        "    'view_cart_purchase': df_view_cart_purchase['price'].mean(),\n",
        "    'view_cart_remove': df_view_cart_remove['price'].mean(),\n",
        "    'view_purchase': df_view_purchase['price'].mean(),\n",
        "}\n",
        "\n",
        "print(\"Mean Prices:\")\n",
        "print(mean_prices)"
      ],
      "metadata": {
        "colab": {
          "base_uri": "https://localhost:8080/"
        },
        "id": "gZxp948m_PZm",
        "outputId": "6c00d6b2-e0cc-47d7-f8a2-977e096d4733"
      },
      "execution_count": null,
      "outputs": [
        {
          "output_type": "stream",
          "name": "stdout",
          "text": [
            "Mean Prices:\n",
            "{'view_cart_purchase': 23.795864661654132, 'view_cart_remove': 7.810043501903208, 'view_purchase': 21.723344594594593}\n"
          ]
        }
      ]
    },
    {
      "cell_type": "code",
      "source": [
        "from scipy import stats\n",
        "\n",
        "# 각 여정의 가격 리스트 생성\n",
        "prices_view_cart_purchase = df_view_cart_purchase['price'].tolist()\n",
        "prices_view_cart_remove = df_view_cart_remove['price'].tolist()\n",
        "prices_view_purchase = df_view_purchase['price'].tolist()\n",
        "\n",
        "# t-test를 통한 유의미한 차이 검정\n",
        "t_test_results = {\n",
        "    'prices_view_cart_purchase__vs__prices_view_cart_remove': stats.ttest_ind(prices_view_cart_purchase, prices_view_cart_remove, equal_var=False),\n",
        "    'prices_view_cart_purchase__vs__prices_view_purchase': stats.ttest_ind(prices_view_cart_purchase, prices_view_purchase, equal_var=False),\n",
        "    'prices_view_cart_remove__vs__prices_view_purchase': stats.ttest_ind(prices_view_cart_remove, prices_view_purchase, equal_var=False),\n",
        "}\n",
        "\n",
        "print(\"T-Test Results:\")\n",
        "for comparison, result in t_test_results.items():\n",
        "    print(f\"{comparison}: statistic={result.statistic:.3f}, p-value={result.pvalue:.3f}\")"
      ],
      "metadata": {
        "colab": {
          "base_uri": "https://localhost:8080/"
        },
        "id": "W-p3uvPc_TBz",
        "outputId": "48a28ab2-b579-475b-fbc1-f636f091fc87"
      },
      "execution_count": null,
      "outputs": [
        {
          "output_type": "stream",
          "name": "stdout",
          "text": [
            "T-Test Results:\n",
            "prices_view_cart_purchase__vs__prices_view_cart_remove: statistic=20.493, p-value=0.000\n",
            "prices_view_cart_purchase__vs__prices_view_purchase: statistic=1.082, p-value=0.280\n",
            "prices_view_cart_remove__vs__prices_view_purchase: statistic=-7.760, p-value=0.000\n"
          ]
        }
      ]
    },
    {
      "cell_type": "markdown",
      "source": [
        "> t-test 분석 결과,\n",
        "- prices_view_cart_purchase__vs__prices_view_cart_remove의 경우,\n",
        "> P-value가 0.05 보다 작음으로, 귀무가설을 기각하고 대립가설을 채택\n",
        "\n",
        "- prices_view_cart_purchase__vs__prices_view_purchase의 경우,\n",
        "> P-value가 0.05 보다 큼으로, 귀무가설을 기각하지 못함\n",
        "\n",
        "- prices_view_cart_remove__vs__prices_view_purchase의 경우,\n",
        "> P-value가 0.05 보다 작음으로, 귀무가설을 기각하고 대립가설을 채택\n",
        "\n",
        "> 이를 토대로,\n",
        "\n",
        "> - 고객들이 카트에 담는 물건값이 $23.88에 가까울수록, 카트에서 제거되지 않고 구매로 이어질 확률이 높다고 해석\n",
        "\n",
        "> - 고객들이 카트에 담는 물건값이 $21.55에 가까울수록, 바로 구매로 이어질 수 있는 확률이 높아진다고 해석\n",
        "\n",
        "> - 고객들이 카트에 담는 물건값이 $7.88에 가까울수록, 카트에서 물건을 제거할 확률이 높다고 해석"
      ],
      "metadata": {
        "id": "nYUxzZlZ_Viz"
      }
    },
    {
      "cell_type": "markdown",
      "source": [
        "2. 'view 다음 소비자의 다음 행동이 구매로 이어질 경우, 제품을 구매할 확률이 높다' 에 대한 가설 검증\n"
      ],
      "metadata": {
        "id": "gItkmeFdBIdB"
      }
    },
    {
      "cell_type": "markdown",
      "source": [
        "2.1 상관관계 분석"
      ],
      "metadata": {
        "id": "1kiInkETnJvb"
      }
    },
    {
      "cell_type": "code",
      "source": [
        "df.head(10)"
      ],
      "metadata": {
        "colab": {
          "base_uri": "https://localhost:8080/",
          "height": 730
        },
        "id": "dnVA6V6KXGsH",
        "outputId": "68de453f-dd73-4529-f74d-4a454b38afce"
      },
      "execution_count": null,
      "outputs": [
        {
          "output_type": "execute_result",
          "data": {
            "text/plain": [
              "                       event_time        event_type  product_id  \\\n",
              "2246359 2019-12-18 06:50:18+00:00              cart     5891029   \n",
              "2246404 2019-12-18 06:50:37+00:00              cart     5890841   \n",
              "2246622 2019-12-18 06:52:53+00:00              cart     5622678   \n",
              "2247040 2019-12-18 06:58:34+00:00              view     5650591   \n",
              "2247058 2019-12-18 06:58:47+00:00              cart     5650591   \n",
              "2247070 2019-12-18 06:58:51+00:00              view     5703199   \n",
              "2247870 2019-12-18 07:07:33+00:00              cart     5774352   \n",
              "2247979 2019-12-18 07:08:41+00:00  remove_from_cart     5622678   \n",
              "2247982 2019-12-18 07:08:42+00:00  remove_from_cart     5890841   \n",
              "2247984 2019-12-18 07:08:43+00:00  remove_from_cart     5890841   \n",
              "\n",
              "                 category_id     brand  price    user_id  \\\n",
              "2246359  1605161575889502297     irisk   5.24  531784651   \n",
              "2246404  1605161575889502297     irisk   4.44  531784651   \n",
              "2246622  1487580007281722301  severina   9.11  531784651   \n",
              "2247040  1487580007936033754   metzger   4.76  531784651   \n",
              "2247058  1487580007936033754   metzger   4.76  531784651   \n",
              "2247070  1487580007894090712   metzger  23.81  531784651   \n",
              "2247870  1783999064136745198    runail   4.13  531784651   \n",
              "2247979  1487580007281722301  severina   9.11  531784651   \n",
              "2247982  1605161575889502297     irisk   4.44  531784651   \n",
              "2247984  1605161575889502297     irisk   4.44  531784651   \n",
              "\n",
              "                                 user_session  is_view  is_cart  is_purchase  \\\n",
              "2246359  00002b0e-d7f7-454e-8386-431c4021a9f6    False     True        False   \n",
              "2246404  00002b0e-d7f7-454e-8386-431c4021a9f6    False     True        False   \n",
              "2246622  00002b0e-d7f7-454e-8386-431c4021a9f6    False     True        False   \n",
              "2247040  00002b0e-d7f7-454e-8386-431c4021a9f6     True    False        False   \n",
              "2247058  00002b0e-d7f7-454e-8386-431c4021a9f6    False     True        False   \n",
              "2247070  00002b0e-d7f7-454e-8386-431c4021a9f6     True    False        False   \n",
              "2247870  00002b0e-d7f7-454e-8386-431c4021a9f6    False     True        False   \n",
              "2247979  00002b0e-d7f7-454e-8386-431c4021a9f6    False    False        False   \n",
              "2247982  00002b0e-d7f7-454e-8386-431c4021a9f6    False    False        False   \n",
              "2247984  00002b0e-d7f7-454e-8386-431c4021a9f6    False    False        False   \n",
              "\n",
              "         next_event_is_purchase  next_event_is_cart  \n",
              "2246359                   False                True  \n",
              "2246404                   False                True  \n",
              "2246622                   False               False  \n",
              "2247040                   False                True  \n",
              "2247058                   False               False  \n",
              "2247070                   False                True  \n",
              "2247870                   False               False  \n",
              "2247979                   False               False  \n",
              "2247982                   False               False  \n",
              "2247984                   False               False  "
            ],
            "text/html": [
              "\n",
              "  <div id=\"df-6107e806-6308-4d07-a232-91df36332904\" class=\"colab-df-container\">\n",
              "    <div>\n",
              "<style scoped>\n",
              "    .dataframe tbody tr th:only-of-type {\n",
              "        vertical-align: middle;\n",
              "    }\n",
              "\n",
              "    .dataframe tbody tr th {\n",
              "        vertical-align: top;\n",
              "    }\n",
              "\n",
              "    .dataframe thead th {\n",
              "        text-align: right;\n",
              "    }\n",
              "</style>\n",
              "<table border=\"1\" class=\"dataframe\">\n",
              "  <thead>\n",
              "    <tr style=\"text-align: right;\">\n",
              "      <th></th>\n",
              "      <th>event_time</th>\n",
              "      <th>event_type</th>\n",
              "      <th>product_id</th>\n",
              "      <th>category_id</th>\n",
              "      <th>brand</th>\n",
              "      <th>price</th>\n",
              "      <th>user_id</th>\n",
              "      <th>user_session</th>\n",
              "      <th>is_view</th>\n",
              "      <th>is_cart</th>\n",
              "      <th>is_purchase</th>\n",
              "      <th>next_event_is_purchase</th>\n",
              "      <th>next_event_is_cart</th>\n",
              "    </tr>\n",
              "  </thead>\n",
              "  <tbody>\n",
              "    <tr>\n",
              "      <th>2246359</th>\n",
              "      <td>2019-12-18 06:50:18+00:00</td>\n",
              "      <td>cart</td>\n",
              "      <td>5891029</td>\n",
              "      <td>1605161575889502297</td>\n",
              "      <td>irisk</td>\n",
              "      <td>5.24</td>\n",
              "      <td>531784651</td>\n",
              "      <td>00002b0e-d7f7-454e-8386-431c4021a9f6</td>\n",
              "      <td>False</td>\n",
              "      <td>True</td>\n",
              "      <td>False</td>\n",
              "      <td>False</td>\n",
              "      <td>True</td>\n",
              "    </tr>\n",
              "    <tr>\n",
              "      <th>2246404</th>\n",
              "      <td>2019-12-18 06:50:37+00:00</td>\n",
              "      <td>cart</td>\n",
              "      <td>5890841</td>\n",
              "      <td>1605161575889502297</td>\n",
              "      <td>irisk</td>\n",
              "      <td>4.44</td>\n",
              "      <td>531784651</td>\n",
              "      <td>00002b0e-d7f7-454e-8386-431c4021a9f6</td>\n",
              "      <td>False</td>\n",
              "      <td>True</td>\n",
              "      <td>False</td>\n",
              "      <td>False</td>\n",
              "      <td>True</td>\n",
              "    </tr>\n",
              "    <tr>\n",
              "      <th>2246622</th>\n",
              "      <td>2019-12-18 06:52:53+00:00</td>\n",
              "      <td>cart</td>\n",
              "      <td>5622678</td>\n",
              "      <td>1487580007281722301</td>\n",
              "      <td>severina</td>\n",
              "      <td>9.11</td>\n",
              "      <td>531784651</td>\n",
              "      <td>00002b0e-d7f7-454e-8386-431c4021a9f6</td>\n",
              "      <td>False</td>\n",
              "      <td>True</td>\n",
              "      <td>False</td>\n",
              "      <td>False</td>\n",
              "      <td>False</td>\n",
              "    </tr>\n",
              "    <tr>\n",
              "      <th>2247040</th>\n",
              "      <td>2019-12-18 06:58:34+00:00</td>\n",
              "      <td>view</td>\n",
              "      <td>5650591</td>\n",
              "      <td>1487580007936033754</td>\n",
              "      <td>metzger</td>\n",
              "      <td>4.76</td>\n",
              "      <td>531784651</td>\n",
              "      <td>00002b0e-d7f7-454e-8386-431c4021a9f6</td>\n",
              "      <td>True</td>\n",
              "      <td>False</td>\n",
              "      <td>False</td>\n",
              "      <td>False</td>\n",
              "      <td>True</td>\n",
              "    </tr>\n",
              "    <tr>\n",
              "      <th>2247058</th>\n",
              "      <td>2019-12-18 06:58:47+00:00</td>\n",
              "      <td>cart</td>\n",
              "      <td>5650591</td>\n",
              "      <td>1487580007936033754</td>\n",
              "      <td>metzger</td>\n",
              "      <td>4.76</td>\n",
              "      <td>531784651</td>\n",
              "      <td>00002b0e-d7f7-454e-8386-431c4021a9f6</td>\n",
              "      <td>False</td>\n",
              "      <td>True</td>\n",
              "      <td>False</td>\n",
              "      <td>False</td>\n",
              "      <td>False</td>\n",
              "    </tr>\n",
              "    <tr>\n",
              "      <th>2247070</th>\n",
              "      <td>2019-12-18 06:58:51+00:00</td>\n",
              "      <td>view</td>\n",
              "      <td>5703199</td>\n",
              "      <td>1487580007894090712</td>\n",
              "      <td>metzger</td>\n",
              "      <td>23.81</td>\n",
              "      <td>531784651</td>\n",
              "      <td>00002b0e-d7f7-454e-8386-431c4021a9f6</td>\n",
              "      <td>True</td>\n",
              "      <td>False</td>\n",
              "      <td>False</td>\n",
              "      <td>False</td>\n",
              "      <td>True</td>\n",
              "    </tr>\n",
              "    <tr>\n",
              "      <th>2247870</th>\n",
              "      <td>2019-12-18 07:07:33+00:00</td>\n",
              "      <td>cart</td>\n",
              "      <td>5774352</td>\n",
              "      <td>1783999064136745198</td>\n",
              "      <td>runail</td>\n",
              "      <td>4.13</td>\n",
              "      <td>531784651</td>\n",
              "      <td>00002b0e-d7f7-454e-8386-431c4021a9f6</td>\n",
              "      <td>False</td>\n",
              "      <td>True</td>\n",
              "      <td>False</td>\n",
              "      <td>False</td>\n",
              "      <td>False</td>\n",
              "    </tr>\n",
              "    <tr>\n",
              "      <th>2247979</th>\n",
              "      <td>2019-12-18 07:08:41+00:00</td>\n",
              "      <td>remove_from_cart</td>\n",
              "      <td>5622678</td>\n",
              "      <td>1487580007281722301</td>\n",
              "      <td>severina</td>\n",
              "      <td>9.11</td>\n",
              "      <td>531784651</td>\n",
              "      <td>00002b0e-d7f7-454e-8386-431c4021a9f6</td>\n",
              "      <td>False</td>\n",
              "      <td>False</td>\n",
              "      <td>False</td>\n",
              "      <td>False</td>\n",
              "      <td>False</td>\n",
              "    </tr>\n",
              "    <tr>\n",
              "      <th>2247982</th>\n",
              "      <td>2019-12-18 07:08:42+00:00</td>\n",
              "      <td>remove_from_cart</td>\n",
              "      <td>5890841</td>\n",
              "      <td>1605161575889502297</td>\n",
              "      <td>irisk</td>\n",
              "      <td>4.44</td>\n",
              "      <td>531784651</td>\n",
              "      <td>00002b0e-d7f7-454e-8386-431c4021a9f6</td>\n",
              "      <td>False</td>\n",
              "      <td>False</td>\n",
              "      <td>False</td>\n",
              "      <td>False</td>\n",
              "      <td>False</td>\n",
              "    </tr>\n",
              "    <tr>\n",
              "      <th>2247984</th>\n",
              "      <td>2019-12-18 07:08:43+00:00</td>\n",
              "      <td>remove_from_cart</td>\n",
              "      <td>5890841</td>\n",
              "      <td>1605161575889502297</td>\n",
              "      <td>irisk</td>\n",
              "      <td>4.44</td>\n",
              "      <td>531784651</td>\n",
              "      <td>00002b0e-d7f7-454e-8386-431c4021a9f6</td>\n",
              "      <td>False</td>\n",
              "      <td>False</td>\n",
              "      <td>False</td>\n",
              "      <td>False</td>\n",
              "      <td>False</td>\n",
              "    </tr>\n",
              "  </tbody>\n",
              "</table>\n",
              "</div>\n",
              "    <div class=\"colab-df-buttons\">\n",
              "\n",
              "  <div class=\"colab-df-container\">\n",
              "    <button class=\"colab-df-convert\" onclick=\"convertToInteractive('df-6107e806-6308-4d07-a232-91df36332904')\"\n",
              "            title=\"Convert this dataframe to an interactive table.\"\n",
              "            style=\"display:none;\">\n",
              "\n",
              "  <svg xmlns=\"http://www.w3.org/2000/svg\" height=\"24px\" viewBox=\"0 -960 960 960\">\n",
              "    <path d=\"M120-120v-720h720v720H120Zm60-500h600v-160H180v160Zm220 220h160v-160H400v160Zm0 220h160v-160H400v160ZM180-400h160v-160H180v160Zm440 0h160v-160H620v160ZM180-180h160v-160H180v160Zm440 0h160v-160H620v160Z\"/>\n",
              "  </svg>\n",
              "    </button>\n",
              "\n",
              "  <style>\n",
              "    .colab-df-container {\n",
              "      display:flex;\n",
              "      gap: 12px;\n",
              "    }\n",
              "\n",
              "    .colab-df-convert {\n",
              "      background-color: #E8F0FE;\n",
              "      border: none;\n",
              "      border-radius: 50%;\n",
              "      cursor: pointer;\n",
              "      display: none;\n",
              "      fill: #1967D2;\n",
              "      height: 32px;\n",
              "      padding: 0 0 0 0;\n",
              "      width: 32px;\n",
              "    }\n",
              "\n",
              "    .colab-df-convert:hover {\n",
              "      background-color: #E2EBFA;\n",
              "      box-shadow: 0px 1px 2px rgba(60, 64, 67, 0.3), 0px 1px 3px 1px rgba(60, 64, 67, 0.15);\n",
              "      fill: #174EA6;\n",
              "    }\n",
              "\n",
              "    .colab-df-buttons div {\n",
              "      margin-bottom: 4px;\n",
              "    }\n",
              "\n",
              "    [theme=dark] .colab-df-convert {\n",
              "      background-color: #3B4455;\n",
              "      fill: #D2E3FC;\n",
              "    }\n",
              "\n",
              "    [theme=dark] .colab-df-convert:hover {\n",
              "      background-color: #434B5C;\n",
              "      box-shadow: 0px 1px 3px 1px rgba(0, 0, 0, 0.15);\n",
              "      filter: drop-shadow(0px 1px 2px rgba(0, 0, 0, 0.3));\n",
              "      fill: #FFFFFF;\n",
              "    }\n",
              "  </style>\n",
              "\n",
              "    <script>\n",
              "      const buttonEl =\n",
              "        document.querySelector('#df-6107e806-6308-4d07-a232-91df36332904 button.colab-df-convert');\n",
              "      buttonEl.style.display =\n",
              "        google.colab.kernel.accessAllowed ? 'block' : 'none';\n",
              "\n",
              "      async function convertToInteractive(key) {\n",
              "        const element = document.querySelector('#df-6107e806-6308-4d07-a232-91df36332904');\n",
              "        const dataTable =\n",
              "          await google.colab.kernel.invokeFunction('convertToInteractive',\n",
              "                                                    [key], {});\n",
              "        if (!dataTable) return;\n",
              "\n",
              "        const docLinkHtml = 'Like what you see? Visit the ' +\n",
              "          '<a target=\"_blank\" href=https://colab.research.google.com/notebooks/data_table.ipynb>data table notebook</a>'\n",
              "          + ' to learn more about interactive tables.';\n",
              "        element.innerHTML = '';\n",
              "        dataTable['output_type'] = 'display_data';\n",
              "        await google.colab.output.renderOutput(dataTable, element);\n",
              "        const docLink = document.createElement('div');\n",
              "        docLink.innerHTML = docLinkHtml;\n",
              "        element.appendChild(docLink);\n",
              "      }\n",
              "    </script>\n",
              "  </div>\n",
              "\n",
              "\n",
              "<div id=\"df-1d761dbe-7039-4795-8284-3916ef84cb0b\">\n",
              "  <button class=\"colab-df-quickchart\" onclick=\"quickchart('df-1d761dbe-7039-4795-8284-3916ef84cb0b')\"\n",
              "            title=\"Suggest charts\"\n",
              "            style=\"display:none;\">\n",
              "\n",
              "<svg xmlns=\"http://www.w3.org/2000/svg\" height=\"24px\"viewBox=\"0 0 24 24\"\n",
              "     width=\"24px\">\n",
              "    <g>\n",
              "        <path d=\"M19 3H5c-1.1 0-2 .9-2 2v14c0 1.1.9 2 2 2h14c1.1 0 2-.9 2-2V5c0-1.1-.9-2-2-2zM9 17H7v-7h2v7zm4 0h-2V7h2v10zm4 0h-2v-4h2v4z\"/>\n",
              "    </g>\n",
              "</svg>\n",
              "  </button>\n",
              "\n",
              "<style>\n",
              "  .colab-df-quickchart {\n",
              "      --bg-color: #E8F0FE;\n",
              "      --fill-color: #1967D2;\n",
              "      --hover-bg-color: #E2EBFA;\n",
              "      --hover-fill-color: #174EA6;\n",
              "      --disabled-fill-color: #AAA;\n",
              "      --disabled-bg-color: #DDD;\n",
              "  }\n",
              "\n",
              "  [theme=dark] .colab-df-quickchart {\n",
              "      --bg-color: #3B4455;\n",
              "      --fill-color: #D2E3FC;\n",
              "      --hover-bg-color: #434B5C;\n",
              "      --hover-fill-color: #FFFFFF;\n",
              "      --disabled-bg-color: #3B4455;\n",
              "      --disabled-fill-color: #666;\n",
              "  }\n",
              "\n",
              "  .colab-df-quickchart {\n",
              "    background-color: var(--bg-color);\n",
              "    border: none;\n",
              "    border-radius: 50%;\n",
              "    cursor: pointer;\n",
              "    display: none;\n",
              "    fill: var(--fill-color);\n",
              "    height: 32px;\n",
              "    padding: 0;\n",
              "    width: 32px;\n",
              "  }\n",
              "\n",
              "  .colab-df-quickchart:hover {\n",
              "    background-color: var(--hover-bg-color);\n",
              "    box-shadow: 0 1px 2px rgba(60, 64, 67, 0.3), 0 1px 3px 1px rgba(60, 64, 67, 0.15);\n",
              "    fill: var(--button-hover-fill-color);\n",
              "  }\n",
              "\n",
              "  .colab-df-quickchart-complete:disabled,\n",
              "  .colab-df-quickchart-complete:disabled:hover {\n",
              "    background-color: var(--disabled-bg-color);\n",
              "    fill: var(--disabled-fill-color);\n",
              "    box-shadow: none;\n",
              "  }\n",
              "\n",
              "  .colab-df-spinner {\n",
              "    border: 2px solid var(--fill-color);\n",
              "    border-color: transparent;\n",
              "    border-bottom-color: var(--fill-color);\n",
              "    animation:\n",
              "      spin 1s steps(1) infinite;\n",
              "  }\n",
              "\n",
              "  @keyframes spin {\n",
              "    0% {\n",
              "      border-color: transparent;\n",
              "      border-bottom-color: var(--fill-color);\n",
              "      border-left-color: var(--fill-color);\n",
              "    }\n",
              "    20% {\n",
              "      border-color: transparent;\n",
              "      border-left-color: var(--fill-color);\n",
              "      border-top-color: var(--fill-color);\n",
              "    }\n",
              "    30% {\n",
              "      border-color: transparent;\n",
              "      border-left-color: var(--fill-color);\n",
              "      border-top-color: var(--fill-color);\n",
              "      border-right-color: var(--fill-color);\n",
              "    }\n",
              "    40% {\n",
              "      border-color: transparent;\n",
              "      border-right-color: var(--fill-color);\n",
              "      border-top-color: var(--fill-color);\n",
              "    }\n",
              "    60% {\n",
              "      border-color: transparent;\n",
              "      border-right-color: var(--fill-color);\n",
              "    }\n",
              "    80% {\n",
              "      border-color: transparent;\n",
              "      border-right-color: var(--fill-color);\n",
              "      border-bottom-color: var(--fill-color);\n",
              "    }\n",
              "    90% {\n",
              "      border-color: transparent;\n",
              "      border-bottom-color: var(--fill-color);\n",
              "    }\n",
              "  }\n",
              "</style>\n",
              "\n",
              "  <script>\n",
              "    async function quickchart(key) {\n",
              "      const quickchartButtonEl =\n",
              "        document.querySelector('#' + key + ' button');\n",
              "      quickchartButtonEl.disabled = true;  // To prevent multiple clicks.\n",
              "      quickchartButtonEl.classList.add('colab-df-spinner');\n",
              "      try {\n",
              "        const charts = await google.colab.kernel.invokeFunction(\n",
              "            'suggestCharts', [key], {});\n",
              "      } catch (error) {\n",
              "        console.error('Error during call to suggestCharts:', error);\n",
              "      }\n",
              "      quickchartButtonEl.classList.remove('colab-df-spinner');\n",
              "      quickchartButtonEl.classList.add('colab-df-quickchart-complete');\n",
              "    }\n",
              "    (() => {\n",
              "      let quickchartButtonEl =\n",
              "        document.querySelector('#df-1d761dbe-7039-4795-8284-3916ef84cb0b button');\n",
              "      quickchartButtonEl.style.display =\n",
              "        google.colab.kernel.accessAllowed ? 'block' : 'none';\n",
              "    })();\n",
              "  </script>\n",
              "</div>\n",
              "\n",
              "    </div>\n",
              "  </div>\n"
            ],
            "application/vnd.google.colaboratory.intrinsic+json": {
              "type": "dataframe",
              "variable_name": "df"
            }
          },
          "metadata": {},
          "execution_count": 83
        }
      ]
    },
    {
      "cell_type": "code",
      "source": [
        "# 브랜드를 숫자로 인코딩\n",
        "df['brand'] = df['brand'].astype('category').cat.codes\n",
        "\n",
        "# 상관관계 계산\n",
        "correlation_matrix = df[['price', 'brand', 'is_view',\n",
        "                          'is_cart', 'is_purchase',\n",
        "                          'next_event_is_purchase',\n",
        "                          'next_event_is_cart']].corr()\n",
        "\n",
        "# 상관관계 히트맵 그리기\n",
        "plt.figure(figsize=(10, 8))\n",
        "sns.heatmap(correlation_matrix, annot=True, cmap='coolwarm', fmt='.2f')\n",
        "plt.title('Correlation Matrix')\n",
        "plt.show()"
      ],
      "metadata": {
        "colab": {
          "base_uri": "https://localhost:8080/",
          "height": 851
        },
        "id": "Nz6ASZm-8F9Q",
        "outputId": "4f46746f-d787-4ace-ec44-154c413653e2"
      },
      "execution_count": null,
      "outputs": [
        {
          "output_type": "display_data",
          "data": {
            "text/plain": [
              "<Figure size 1000x800 with 2 Axes>"
            ],
            "image/png": "[encoded data removed]"
          },
          "metadata": {}
        }
      ]
    },
    {
      "cell_type": "markdown",
      "source": [
        "- is_view is_cart 상관계수는 -0.64로 음의 상관관계를 가지고 있다고 해석할 수 있음\n",
        "> page view가 올라갈수록 cart를 클릭할 확률이 낮아진다고 볼 수 있다. (하지만, 이것이 인과관계를 뜻하는 것은 아님)\n",
        "- next_event_is_purchase와 is_purchase의 상관계수는 0.78로 강한 상관관계를 가지고 있다고 해석할 수 있음\n",
        "> 소비자의 view - 다음 행동이 purchase라면, 구매확률이 높아질 수 있다고 해석할 수 있다. (하지만, 이것이 인과관계를 뜻하는 것은 아님)"
      ],
      "metadata": {
        "id": "E7lCiZCnk9Q2"
      }
    },
    {
      "cell_type": "markdown",
      "source": [
        "2.2 인과관계 분석\n",
        "\n",
        "2.2.1 로지스틱 회귀분석"
      ],
      "metadata": {
        "id": "JSXt57humZoN"
      }
    },
    {
      "cell_type": "code",
      "source": [
        "df['is_view'] = df['is_view'].astype(int)\n",
        "df['is_cart'] = df['is_cart'].astype(int)\n",
        "\n",
        "\n",
        "# 독립 변수와 종속 변수 설정\n",
        "X = df[['is_view']]  # 독립 변수\n",
        "y = df['is_cart']  # 종속 변수\n",
        "\n",
        "# 상수항 추가\n",
        "X = sm.add_constant(X)\n",
        "\n",
        "# 회귀 모델 적합\n",
        "model = sm.Logit(y, X)  # 로지스틱 회귀 모델 사용 (이진 분류 문제)\n",
        "result = model.fit()\n",
        "\n",
        "# 결과 요약 출력\n",
        "print(result.summary())"
      ],
      "metadata": {
        "colab": {
          "base_uri": "https://localhost:8080/"
        },
        "id": "WyqgbBWpmjTj",
        "outputId": "e171bf97-c325-41fc-b1f8-eb198cda74c8"
      },
      "execution_count": null,
      "outputs": [
        {
          "output_type": "stream",
          "name": "stdout",
          "text": [
            "Warning: Maximum number of iterations has been exceeded.\n",
            "         Current function value: 0.326071\n",
            "         Iterations: 35\n"
          ]
        },
        {
          "output_type": "stream",
          "name": "stderr",
          "text": [
            "/usr/local/lib/python3.10/dist-packages/statsmodels/base/model.py:607: ConvergenceWarning:\n",
            "\n",
            "Maximum Likelihood optimization failed to converge. Check mle_retvals\n",
            "\n"
          ]
        },
        {
          "output_type": "stream",
          "name": "stdout",
          "text": [
            "                           Logit Regression Results                           \n",
            "==============================================================================\n",
            "Dep. Variable:                is_cart   No. Observations:              1891487\n",
            "Model:                          Logit   Df Residuals:                  1891485\n",
            "Method:                           MLE   Df Model:                            1\n",
            "Date:                Wed, 27 Nov 2024   Pseudo R-squ.:                  0.4391\n",
            "Time:                        08:54:47   Log-Likelihood:            -6.1676e+05\n",
            "converged:                      False   LL-Null:                   -1.0996e+06\n",
            "Covariance Type:            nonrobust   LLR p-value:                     0.000\n",
            "==============================================================================\n",
            "                 coef    std err          z      P>|z|      [0.025      0.975]\n",
            "------------------------------------------------------------------------------\n",
            "const          0.2545      0.002    119.752      0.000       0.250       0.259\n",
            "is_view      -12.2050      0.395    -30.875      0.000     -12.980     -11.430\n",
            "==============================================================================\n",
            "\n",
            "Possibly complete quasi-separation: A fraction 0.52 of observations can be\n",
            "perfectly predicted. This might indicate that there is complete\n",
            "quasi-separation. In this case some parameters will not be identified.\n"
          ]
        }
      ]
    },
    {
      "cell_type": "markdown",
      "source": [
        "- p-value의 값이 0.05보다 큼으로 통계적으로 유의미하다고 할 수 없음\n",
        "> 두 변수가 명확한 인과관계를 가지고 있다고 보기 힘들다."
      ],
      "metadata": {
        "id": "S1NN6dC9mszY"
      }
    },
    {
      "cell_type": "code",
      "source": [
        "df['is_purchase'] = df['is_cart'].astype(int)\n",
        "df['next_event_is_purchase'] = df['next_event_is_purchase'].astype(int)\n",
        "\n",
        "\n",
        "# 독립 변수와 종속 변수 설정\n",
        "y = df[['is_purchase']]  # 독립 변수\n",
        "X = df['next_event_is_purchase']  # 종속 변수\n",
        "\n",
        "# 상수항 추가\n",
        "X = sm.add_constant(X)\n",
        "\n",
        "# 회귀 모델 적합\n",
        "model = sm.Logit(y, X)  # 로지스틱 회귀 모델 사용 (이진 분류 문제)\n",
        "result = model.fit()\n",
        "\n",
        "# 결과 요약 출력\n",
        "print(result.summary())"
      ],
      "metadata": {
        "colab": {
          "base_uri": "https://localhost:8080/"
        },
        "id": "aoN_VTk1m8qk",
        "outputId": "0e8c823c-d9ca-4b23-eeb5-6750a6e41637"
      },
      "execution_count": null,
      "outputs": [
        {
          "output_type": "stream",
          "name": "stdout",
          "text": [
            "Optimization terminated successfully.\n",
            "         Current function value: 0.573972\n",
            "         Iterations 6\n",
            "                           Logit Regression Results                           \n",
            "==============================================================================\n",
            "Dep. Variable:            is_purchase   No. Observations:              1891487\n",
            "Model:                          Logit   Df Residuals:                  1891485\n",
            "Method:                           MLE   Df Model:                            1\n",
            "Date:                Wed, 27 Nov 2024   Pseudo R-squ.:                 0.01268\n",
            "Time:                        08:54:57   Log-Likelihood:            -1.0857e+06\n",
            "converged:                       True   LL-Null:                   -1.0996e+06\n",
            "Covariance Type:            nonrobust   LLR p-value:                     0.000\n",
            "==========================================================================================\n",
            "                             coef    std err          z      P>|z|      [0.025      0.975]\n",
            "------------------------------------------------------------------------------------------\n",
            "const                     -0.9411      0.002   -562.779      0.000      -0.944      -0.938\n",
            "next_event_is_purchase    -1.4665      0.011   -138.254      0.000      -1.487      -1.446\n",
            "==========================================================================================\n"
          ]
        }
      ]
    },
    {
      "cell_type": "markdown",
      "source": [
        " p-value의 값이 0.05보다 큼으로 통계적으로 유의미하다고 할 수 있음\n",
        "> 하지만, 로지스틱회귀 모형에 대한 그래프가 s자를 그리지 않아 클래스의 불균형 문제가 의심"
      ],
      "metadata": {
        "id": "FV0wQ2rcnqw6"
      }
    },
    {
      "cell_type": "code",
      "source": [
        "# prompt: df['is_purchase'] = df['is_cart'].astype(int)\n",
        "# df['next_event_is_purchase'] = df['next_event_is_purchase'].astype(int) 이변수들 클래스 불균형 확인하게 히스토그램 바 그려줘 (x축 0, 1 로만)\n",
        "\n",
        "import matplotlib.pyplot as plt\n",
        "\n",
        "# 'is_purchase' 변수의 히스토그램\n",
        "plt.figure(figsize=(6, 4))\n",
        "plt.hist(df['is_purchase'], bins=[-0.5, 0.5, 1.5], align='mid', rwidth=0.8)\n",
        "plt.xticks([0, 1])\n",
        "plt.xlabel('is_purchase')\n",
        "plt.ylabel('Frequency')\n",
        "plt.title('Histogram of is_purchase')\n",
        "plt.show()\n",
        "\n",
        "# 'next_event_is_purchase' 변수의 히스토그램\n",
        "plt.figure(figsize=(6, 4))\n",
        "plt.hist(df['next_event_is_purchase'], bins=[-0.5, 0.5, 1.5], align='mid', rwidth=0.8)\n",
        "plt.xticks([0, 1])\n",
        "plt.xlabel('next_event_is_purchase')\n",
        "plt.ylabel('Frequency')\n",
        "plt.title('Histogram of next_event_is_purchase')\n",
        "plt.show()"
      ],
      "metadata": {
        "colab": {
          "base_uri": "https://localhost:8080/",
          "height": 803
        },
        "id": "RA09dMpVm9Gy",
        "outputId": "26150d95-8831-4203-8b41-e317b95de2c2"
      },
      "execution_count": null,
      "outputs": [
        {
          "output_type": "display_data",
          "data": {
            "text/plain": [
              "<Figure size 600x400 with 1 Axes>"
            ],
            "image/png": "[encoded data removed]"
          },
          "metadata": {}
        },
        {
          "output_type": "display_data",
          "data": {
            "text/plain": [
              "<Figure size 600x400 with 1 Axes>"
            ],
            "image/png": "[encoded data removed]"
          },
          "metadata": {}
        }
      ]
    },
    {
      "cell_type": "markdown",
      "source": [
        "- 종속변수와 독립변수의 클래스 불균형 차이가 크다는 것을 확인"
      ],
      "metadata": {
        "id": "vQ1jx2kczDnk"
      }
    },
    {
      "cell_type": "markdown",
      "source": [
        "클래스 불균형 문제 해결"
      ],
      "metadata": {
        "id": "Ve3s3jDLzKKa"
      }
    },
    {
      "cell_type": "code",
      "source": [
        "from sklearn.model_selection import train_test_split\n",
        "from sklearn.ensemble import RandomForestClassifier, AdaBoostClassifier\n",
        "from sklearn.metrics import classification_report\n",
        "\n",
        "# 데이터 분할 (훈련 세트와 테스트 세트)\n",
        "X_train, X_test, y_train, y_test = train_test_split(X, y, test_size=0.2, random_state=42)\n",
        "\n",
        "# Random Forest 모델 생성\n",
        "rf_model = RandomForestClassifier(class_weight='balanced', random_state=42)\n",
        "\n",
        "# AdaBoost 모델 생성 (기본 분류기로 Decision Tree 사용)\n",
        "ada_model = AdaBoostClassifier(n_estimators=50, random_state=42)\n",
        "\n",
        "# Random Forest 모델 학습\n",
        "rf_model.fit(X_train, y_train)\n",
        "\n",
        "# AdaBoost 모델 학습 (기본 Decision Tree 사용)\n",
        "ada_model.fit(X_train, y_train)\n",
        "\n",
        "# 예측\n",
        "y_pred_rf = rf_model.predict(X_test)\n",
        "y_pred_ada = ada_model.predict(X_test)\n",
        "\n",
        "# 성능 평가\n",
        "print(\"Random Forest Classifier Report:\")\n",
        "print(classification_report(y_test, y_pred_rf))\n",
        "\n",
        "print(\"AdaBoost Classifier Report:\")\n",
        "print(classification_report(y_test, y_pred_ada))"
      ],
      "metadata": {
        "colab": {
          "base_uri": "https://localhost:8080/"
        },
        "id": "0802Uyq2pxuo",
        "outputId": "a7042948-4ad8-48b0-b0ec-c9879ee7810a"
      },
      "execution_count": null,
      "outputs": [
        {
          "output_type": "stream",
          "name": "stderr",
          "text": [
            "/usr/local/lib/python3.10/dist-packages/sklearn/base.py:1473: DataConversionWarning:\n",
            "\n",
            "A column-vector y was passed when a 1d array was expected. Please change the shape of y to (n_samples,), for example using ravel().\n",
            "\n",
            "/usr/local/lib/python3.10/dist-packages/sklearn/utils/validation.py:1339: DataConversionWarning:\n",
            "\n",
            "A column-vector y was passed when a 1d array was expected. Please change the shape of y to (n_samples, ), for example using ravel().\n",
            "\n",
            "/usr/local/lib/python3.10/dist-packages/sklearn/ensemble/_weight_boosting.py:527: FutureWarning:\n",
            "\n",
            "The SAMME.R algorithm (the default) is deprecated and will be removed in 1.6. Use the SAMME algorithm to circumvent this warning.\n",
            "\n"
          ]
        },
        {
          "output_type": "stream",
          "name": "stdout",
          "text": [
            "Random Forest Classifier Report:\n",
            "              precision    recall  f1-score   support\n",
            "\n",
            "           0       0.92      0.08      0.15    277043\n",
            "           1       0.28      0.98      0.44    101255\n",
            "\n",
            "    accuracy                           0.32    378298\n",
            "   macro avg       0.60      0.53      0.29    378298\n",
            "weighted avg       0.75      0.32      0.22    378298\n",
            "\n",
            "AdaBoost Classifier Report:\n"
          ]
        },
        {
          "output_type": "stream",
          "name": "stderr",
          "text": [
            "/usr/local/lib/python3.10/dist-packages/sklearn/metrics/_classification.py:1531: UndefinedMetricWarning:\n",
            "\n",
            "Precision is ill-defined and being set to 0.0 in labels with no predicted samples. Use `zero_division` parameter to control this behavior.\n",
            "\n",
            "/usr/local/lib/python3.10/dist-packages/sklearn/metrics/_classification.py:1531: UndefinedMetricWarning:\n",
            "\n",
            "Precision is ill-defined and being set to 0.0 in labels with no predicted samples. Use `zero_division` parameter to control this behavior.\n",
            "\n"
          ]
        },
        {
          "output_type": "stream",
          "name": "stdout",
          "text": [
            "              precision    recall  f1-score   support\n",
            "\n",
            "           0       0.73      1.00      0.85    277043\n",
            "           1       0.00      0.00      0.00    101255\n",
            "\n",
            "    accuracy                           0.73    378298\n",
            "   macro avg       0.37      0.50      0.42    378298\n",
            "weighted avg       0.54      0.73      0.62    378298\n",
            "\n"
          ]
        },
        {
          "output_type": "stream",
          "name": "stderr",
          "text": [
            "/usr/local/lib/python3.10/dist-packages/sklearn/metrics/_classification.py:1531: UndefinedMetricWarning:\n",
            "\n",
            "Precision is ill-defined and being set to 0.0 in labels with no predicted samples. Use `zero_division` parameter to control this behavior.\n",
            "\n"
          ]
        }
      ]
    },
    {
      "cell_type": "markdown",
      "source": [
        "- 트리기반 앙상블기법을 활용했지만, 1에 대한 예측이 매우 저조"
      ],
      "metadata": {
        "id": "l407YkuQzUrH"
      }
    },
    {
      "cell_type": "code",
      "source": [
        "from xgboost import XGBClassifier\n",
        "\n",
        "# 데이터 준비\n",
        "X = df[['is_purchase']]  # 독립 변수\n",
        "y = df['next_event_is_purchase']  # 종속 변수\n",
        "\n",
        "# 데이터 분할 (훈련 세트와 테스트 세트)\n",
        "X_train, X_test, y_train, y_test = train_test_split(X, y, test_size=0.2, random_state=42)\n",
        "\n",
        "# XGBoost 모델 생성\n",
        "xgb_model = XGBClassifier(scale_pos_weight=len(y_train[y_train == 0]) / len(y_train[y_train == 1]), random_state=42)\n",
        "\n",
        "# 모델 학습\n",
        "xgb_model.fit(X_train, y_train)\n",
        "\n",
        "# 예측\n",
        "y_pred_xgb = xgb_model.predict(X_test)\n",
        "\n",
        "# 성능 평가\n",
        "print(\"XGBoost Classifier Report:\")\n",
        "print(classification_report(y_test, y_pred_xgb))"
      ],
      "metadata": {
        "colab": {
          "base_uri": "https://localhost:8080/"
        },
        "id": "95Q_nQhVtfK9",
        "outputId": "0890e895-f9fa-4387-d3b1-c9e698371f41"
      },
      "execution_count": null,
      "outputs": [
        {
          "output_type": "stream",
          "name": "stdout",
          "text": [
            "XGBoost Classifier Report:\n",
            "              precision    recall  f1-score   support\n",
            "\n",
            "           0       0.98      0.28      0.44    354294\n",
            "           1       0.08      0.92      0.15     24004\n",
            "\n",
            "    accuracy                           0.32    378298\n",
            "   macro avg       0.53      0.60      0.29    378298\n",
            "weighted avg       0.92      0.32      0.42    378298\n",
            "\n"
          ]
        }
      ]
    },
    {
      "cell_type": "markdown",
      "source": [
        "- xgboost를 활용했지만, 1에 대한 예측이 매우 저조"
      ],
      "metadata": {
        "id": "CTYnEjYKz2rZ"
      }
    },
    {
      "cell_type": "code",
      "source": [
        "from imblearn.over_sampling import SMOTE\n",
        "\n",
        "# 데이터 분할 (훈련 세트와 테스트 세트)\n",
        "X_train, X_test, y_train, y_test = train_test_split(X, y, test_size=0.2, random_state=42)\n",
        "\n",
        "# SMOTE 적용\n",
        "smote = SMOTE(random_state=42)\n",
        "X_resampled, y_resampled = smote.fit_resample(X_train, y_train)\n",
        "\n",
        "# XGBoost 모델 생성 (class_weight는 필요 없음)\n",
        "xgb_model = XGBClassifier(random_state=42)\n",
        "\n",
        "# 모델 학습\n",
        "xgb_model.fit(X_resampled, y_resampled)\n",
        "\n",
        "# 예측\n",
        "y_pred_xgb = xgb_model.predict(X_test)\n",
        "\n",
        "# 성능 평가\n",
        "print(\"XGBoost Classifier Report after SMOTE:\")\n",
        "print(classification_report(y_test, y_pred_xgb))"
      ],
      "metadata": {
        "colab": {
          "base_uri": "https://localhost:8080/"
        },
        "id": "eJqTyTnAt1mM",
        "outputId": "5693fe50-7d6d-48ff-dfa2-8e3ca920cd9f"
      },
      "execution_count": null,
      "outputs": [
        {
          "output_type": "stream",
          "name": "stdout",
          "text": [
            "XGBoost Classifier Report after SMOTE:\n",
            "              precision    recall  f1-score   support\n",
            "\n",
            "           0       0.98      0.28      0.44    354294\n",
            "           1       0.08      0.92      0.15     24004\n",
            "\n",
            "    accuracy                           0.32    378298\n",
            "   macro avg       0.53      0.60      0.29    378298\n",
            "weighted avg       0.92      0.32      0.42    378298\n",
            "\n"
          ]
        }
      ]
    },
    {
      "cell_type": "markdown",
      "source": [
        "- SMOTE를 활용하여 클래스 불균형 문제에 대한 해결하고 xgboost를 통해 모델링 했지만, 1에 대한 예측이 매우 저조"
      ],
      "metadata": {
        "id": "Hx6u-846z-i6"
      }
    },
    {
      "cell_type": "code",
      "source": [
        "from imblearn.over_sampling import RandomOverSampler\n",
        "\n",
        "# 데이터 분할 (훈련 세트와 테스트 세트)\n",
        "X_train, X_test, y_train, y_test = train_test_split(X, y, test_size=0.2, random_state=42)\n",
        "\n",
        "# 랜덤 오버샘플링 적용\n",
        "ros = RandomOverSampler(random_state=42)\n",
        "X_resampled, y_resampled = ros.fit_resample(X_train, y_train)\n",
        "\n",
        "# XGBoost 모델 생성\n",
        "xgb_model = XGBClassifier(random_state=42)\n",
        "\n",
        "# 모델 학습\n",
        "xgb_model.fit(X_resampled, y_resampled)\n",
        "\n",
        "# 예측\n",
        "y_pred_xgb = xgb_model.predict(X_test)\n",
        "\n",
        "# 성능 평가\n",
        "print(\"XGBoost Classifier Report after Random Over Sampling:\")\n",
        "print(classification_report(y_test, y_pred_xgb))"
      ],
      "metadata": {
        "colab": {
          "base_uri": "https://localhost:8080/"
        },
        "id": "K3u0e_7-ui0Q",
        "outputId": "46481b31-c29e-439e-e9eb-09881824d3e3"
      },
      "execution_count": null,
      "outputs": [
        {
          "output_type": "stream",
          "name": "stdout",
          "text": [
            "XGBoost Classifier Report after Random Over Sampling:\n",
            "              precision    recall  f1-score   support\n",
            "\n",
            "           0       0.98      0.28      0.44    354294\n",
            "           1       0.08      0.92      0.15     24004\n",
            "\n",
            "    accuracy                           0.32    378298\n",
            "   macro avg       0.53      0.60      0.29    378298\n",
            "weighted avg       0.92      0.32      0.42    378298\n",
            "\n"
          ]
        }
      ]
    },
    {
      "cell_type": "markdown",
      "source": [
        "- Random Over Sampling을 통해 클래스 불균형 문제에 대한 해결하고 xgboost를 통해 모델링 했지만, 1에 대한 예측이 매우 저조"
      ],
      "metadata": {
        "id": "VHNnkD_Pw_vw"
      }
    },
    {
      "cell_type": "code",
      "source": [
        "# 데이터 분할 (훈련 세트와 테스트 세트)\n",
        "X_train, X_test, y_train, y_test = train_test_split(X, y, test_size=0.2, random_state=42)\n",
        "\n",
        "# 랜덤 오버샘플링 적용 (선택 사항)\n",
        "ros = RandomOverSampler(random_state=42)\n",
        "X_resampled, y_resampled = ros.fit_resample(X_train, y_train)\n",
        "\n",
        "# 클래스 가중치 계산\n",
        "scale_pos_weight = len(y_resampled[y_resampled == 0]) / len(y_resampled[y_resampled == 1])\n",
        "\n",
        "# XGBoost 모델 생성\n",
        "xgb_model = XGBClassifier(scale_pos_weight=scale_pos_weight, random_state=42)\n",
        "\n",
        "# 모델 학습\n",
        "xgb_model.fit(X_resampled, y_resampled)\n",
        "\n",
        "# 예측\n",
        "y_pred = xgb_model.predict(X_test)\n",
        "\n",
        "# 성능 평가\n",
        "print(\"XGBoost Classifier Report with Class Weights:\")\n",
        "print(classification_report(y_test, y_pred))"
      ],
      "metadata": {
        "colab": {
          "base_uri": "https://localhost:8080/"
        },
        "id": "FgNzLHMyxAJL",
        "outputId": "645abd75-58ae-44ce-dc46-82cf7df29ef8"
      },
      "execution_count": null,
      "outputs": [
        {
          "output_type": "stream",
          "name": "stdout",
          "text": [
            "XGBoost Classifier Report with Class Weights:\n",
            "              precision    recall  f1-score   support\n",
            "\n",
            "           0       0.98      0.28      0.44    354294\n",
            "           1       0.08      0.92      0.15     24004\n",
            "\n",
            "    accuracy                           0.32    378298\n",
            "   macro avg       0.53      0.60      0.29    378298\n",
            "weighted avg       0.92      0.32      0.42    378298\n",
            "\n"
          ]
        }
      ]
    },
    {
      "cell_type": "markdown",
      "source": [
        "- 가중치를 활용하여 클래스 불균형 문제에 대한 해결하고 xgboost를 통해 모델링 했지만, 1에 대한 예측이 매우 저조"
      ],
      "metadata": {
        "id": "Fp6u6NA70X3-"
      }
    },
    {
      "cell_type": "markdown",
      "source": [
        "> => next_event_is_purchase와 is_purchase 변수의 경우,\n",
        "- P-value가 0.05 보다 낮아 인과관계가 유의미 하다고 판단할 수 있으나, 종속변수와 독립변수의 클래스 불균형 차이가 커 모델의 정확도가 현저히 낮음\n",
        "- random sampling, smote, 앙상블 등 다양한 기법을 통해 클래스 불균형에 대한 문제를 해결하기 위해 노력했지만, 모델의 F-1 SCORE와 Accuracy값이 저조함\n",
        "- 이에 따라 두 변수는 인과 관계가 있다고 할 수 있지만, 명확한 인과관계를 도출해내는데 한계가 있음"
      ],
      "metadata": {
        "id": "G1QPsBcMYVB9"
      }
    },
    {
      "cell_type": "markdown",
      "source": [
        "### **결론**"
      ],
      "metadata": {
        "id": "HoJxkrg9rtW9"
      }
    },
    {
      "cell_type": "markdown",
      "source": [
        "**퍼널 분석**"
      ],
      "metadata": {
        "id": "73EaXcr7rta3"
      }
    },
    {
      "cell_type": "markdown",
      "source": [
        "- View에서 Cart로 넘어오는 과정에서 많은 이탈이 발생함\n",
        "- Cart에 담아두었던 제품 50%는 Cart에서 제거됨\n",
        "- 고객들이 구매하는 제품의 평균 금액은 카트에서 제거되는 제품의 평균 금액보다 높음\n",
        "- view - purchase의 여정을 가진 session 유저들은 Purchase로 전환될 확률이 매우 높음"
      ],
      "metadata": {
        "id": "0z4SdC0ysC6a"
      }
    },
    {
      "cell_type": "markdown",
      "source": [
        "**가설 검증**"
      ],
      "metadata": {
        "id": "w6X3JhdPrtem"
      }
    },
    {
      "cell_type": "markdown",
      "source": [
        "1. '소비자들이 구매하는 브랜드/제품의 평균 가격은 카트에서 제거되는 브랜드/제품의 평균 가격 보다 높다' 에 대한 가설 검증"
      ],
      "metadata": {
        "id": "GqYygdoKrtiP"
      }
    },
    {
      "cell_type": "markdown",
      "source": [
        "t-test를 통해 분석한 결과, 3가지 퍼널을 가진 session user들이 구매한 브랜드/제품의 평균 가격의 차이는 유의미함\n",
        "\n",
        "- 고객들이 카트에 담는 물건값이 $23.88에 가까울수록, 카트에서 제거되지 않고 구매로 이어질 확률 높음\n",
        "\n",
        "- 고객들이 카트에 담는 물건값이 $21.55에 가까울수록, 바로 구매로 이어질 수 있는 확률이 높음\n",
        "\n",
        "- 고객들이 카트에 담는 물건값이 $7.88에 가까울수록, 카트에서 물건을 제거할 확률이 높음\n"
      ],
      "metadata": {
        "id": "Atv9g-_Hrtmr"
      }
    },
    {
      "cell_type": "markdown",
      "source": [
        "2. 'view 다음 소비자의 다음 행동이 구매로 이어질 경우, 제품을 구매할 확률이 높다' 에 대한 가설 검증"
      ],
      "metadata": {
        "id": "0KQPVI1ltqSV"
      }
    },
    {
      "cell_type": "markdown",
      "source": [
        "next_event_is_purchase와 is_purchase변수를 토대로 상관관계 분석을 한 결과,\n",
        "- 두 변수는 강한 상관관계를 가지고 있다는 것을 확인\n",
        "\n",
        "next_event_is_purchase를 독립변수, is_purchase변수를 종속변수로 두고 인과관계 분석을 한 결과,\n",
        "- 통계적으로 유의하다는 결과를 얻음\n",
        "\n",
        "하지만, 클래스 불균형 문제로 모델의 정밀도, 정확도 등 성능이 현저히 낮다는 것을 알 수 있음\n",
        "\n",
        "이에, 명확한 인과 관계를 도출해내는데 한계가 있다는 결론을 내림"
      ],
      "metadata": {
        "id": "U2jNES-Lt3BX"
      }
    },
    {
      "cell_type": "markdown",
      "source": [
        "**종합 인사이트**"
      ],
      "metadata": {
        "id": "7vY_Li_ft3Ff"
      }
    },
    {
      "cell_type": "markdown",
      "source": [
        "- View에서 Cart로 넘어오는 전환율을 높이기 위해 가격대가 높고 사람들이 많이 구매하는 runai, jessenail, strong과 같은 제품들에 대한 구매를 유도하는 것이 중요\n",
        "- 21 - 24달러 사이의 가격대에 제품을 추천하는 것이 구매로 이어질 수 있는 확률이 높음\n",
        "> 프로모션, 온사이트 배너와 같은 영역에 적용 가능\n",
        "- view page에서 바로 purchase로 넘어가는 유저들을 타겟 대상으로 삼고, 이들에 맞춘 영업/마케팅 전략을 구상하는 것이 필요\n"
      ],
      "metadata": {
        "id": "P88auFSBt3JZ"
      }
    }
  ]
}