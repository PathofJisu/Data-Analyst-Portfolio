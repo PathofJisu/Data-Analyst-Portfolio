{
  "nbformat": 4,
  "nbformat_minor": 0,
  "metadata": {
    "colab": {
      "provenance": []
    },
    "kernelspec": {
      "name": "python3",
      "display_name": "Python 3"
    },
    "language_info": {
      "name": "python"
    }
  },
  "cells": [
    {
      "cell_type": "code",
      "execution_count": 1,
      "metadata": {
        "id": "Yhh5iwDtD7h3"
      },
      "outputs": [],
      "source": [
        "import pandas as pd"
      ]
    },
    {
      "cell_type": "code",
      "source": [
        "df= pd.read_csv('/content/sample_data/2019-Dec.csv')"
      ],
      "metadata": {
        "id": "6S0Ced1aEhII"
      },
      "execution_count": 2,
      "outputs": []
    },
    {
      "cell_type": "code",
      "source": [
        "df['event_type'].unique()"
      ],
      "metadata": {
        "colab": {
          "base_uri": "https://localhost:8080/"
        },
        "id": "jwQG1f_sEhMW",
        "outputId": "1c0afa17-ebb1-422b-f064-7e7676d19051"
      },
      "execution_count": 3,
      "outputs": [
        {
          "output_type": "execute_result",
          "data": {
            "text/plain": [
              "array(['remove_from_cart', 'view', 'cart', 'purchase'], dtype=object)"
            ]
          },
          "metadata": {},
          "execution_count": 3
        }
      ]
    },
    {
      "cell_type": "code",
      "source": [
        "df['event_time'] = pd.to_datetime(df['event_time'])"
      ],
      "metadata": {
        "id": "Fks1gIM1EhPi"
      },
      "execution_count": 4,
      "outputs": []
    },
    {
      "cell_type": "markdown",
      "source": [
        "### **데이터 전처리**\n",
        "\n",
        "---\n",
        "\n"
      ],
      "metadata": {
        "id": "2HFmAsRwJ-go"
      }
    },
    {
      "cell_type": "markdown",
      "source": [
        "1. 중복값 처리"
      ],
      "metadata": {
        "id": "2VX7bWxrNNih"
      }
    },
    {
      "cell_type": "code",
      "source": [
        "df = df.drop_duplicates()"
      ],
      "metadata": {
        "id": "iBG_q3vgJ-rd"
      },
      "execution_count": 5,
      "outputs": []
    },
    {
      "cell_type": "markdown",
      "source": [
        "2. 결측값 처리"
      ],
      "metadata": {
        "id": "kraOV491K3WD"
      }
    },
    {
      "cell_type": "code",
      "source": [
        "df.isna().sum()"
      ],
      "metadata": {
        "colab": {
          "base_uri": "https://localhost:8080/",
          "height": 0
        },
        "id": "MZ4F4JAKNUpk",
        "outputId": "a44e51f9-bd47-46ce-ef7a-93e65d998b35"
      },
      "execution_count": 6,
      "outputs": [
        {
          "output_type": "execute_result",
          "data": {
            "text/plain": [
              "event_time             0\n",
              "event_type             0\n",
              "product_id             0\n",
              "category_id            0\n",
              "category_code    3292700\n",
              "brand            1428211\n",
              "price                  0\n",
              "user_id                0\n",
              "user_session         714\n",
              "dtype: int64"
            ],
            "text/html": [
              "<div>\n",
              "<style scoped>\n",
              "    .dataframe tbody tr th:only-of-type {\n",
              "        vertical-align: middle;\n",
              "    }\n",
              "\n",
              "    .dataframe tbody tr th {\n",
              "        vertical-align: top;\n",
              "    }\n",
              "\n",
              "    .dataframe thead th {\n",
              "        text-align: right;\n",
              "    }\n",
              "</style>\n",
              "<table border=\"1\" class=\"dataframe\">\n",
              "  <thead>\n",
              "    <tr style=\"text-align: right;\">\n",
              "      <th></th>\n",
              "      <th>0</th>\n",
              "    </tr>\n",
              "  </thead>\n",
              "  <tbody>\n",
              "    <tr>\n",
              "      <th>event_time</th>\n",
              "      <td>0</td>\n",
              "    </tr>\n",
              "    <tr>\n",
              "      <th>event_type</th>\n",
              "      <td>0</td>\n",
              "    </tr>\n",
              "    <tr>\n",
              "      <th>product_id</th>\n",
              "      <td>0</td>\n",
              "    </tr>\n",
              "    <tr>\n",
              "      <th>category_id</th>\n",
              "      <td>0</td>\n",
              "    </tr>\n",
              "    <tr>\n",
              "      <th>category_code</th>\n",
              "      <td>3292700</td>\n",
              "    </tr>\n",
              "    <tr>\n",
              "      <th>brand</th>\n",
              "      <td>1428211</td>\n",
              "    </tr>\n",
              "    <tr>\n",
              "      <th>price</th>\n",
              "      <td>0</td>\n",
              "    </tr>\n",
              "    <tr>\n",
              "      <th>user_id</th>\n",
              "      <td>0</td>\n",
              "    </tr>\n",
              "    <tr>\n",
              "      <th>user_session</th>\n",
              "      <td>714</td>\n",
              "    </tr>\n",
              "  </tbody>\n",
              "</table>\n",
              "</div><br><label><b>dtype:</b> int64</label>"
            ]
          },
          "metadata": {},
          "execution_count": 6
        }
      ]
    },
    {
      "cell_type": "markdown",
      "source": [],
      "metadata": {
        "id": "CugjeoyUO6vS"
      }
    },
    {
      "cell_type": "code",
      "source": [
        "#분석에 의미없는 카테고리 코드 제거\n",
        "df = df.drop('category_code', axis=1)\n",
        "\n",
        "#총 2541810 데이터 중 1072879(brand 결측치) 제거해도 1,468,931개의 데이터를 확보할 수 있기 때문에 단순 제거\n",
        "df = df.dropna(subset = ['brand','price','user_id','user_session'])\n",
        "\n",
        "df.isna().sum()"
      ],
      "metadata": {
        "colab": {
          "base_uri": "https://localhost:8080/",
          "height": 0
        },
        "id": "EMcCE19ZO8jL",
        "outputId": "00711748-27db-47f6-ec9a-559fc8af29c8"
      },
      "execution_count": 7,
      "outputs": [
        {
          "output_type": "execute_result",
          "data": {
            "text/plain": [
              "event_time      0\n",
              "event_type      0\n",
              "product_id      0\n",
              "category_id     0\n",
              "brand           0\n",
              "price           0\n",
              "user_id         0\n",
              "user_session    0\n",
              "dtype: int64"
            ],
            "text/html": [
              "<div>\n",
              "<style scoped>\n",
              "    .dataframe tbody tr th:only-of-type {\n",
              "        vertical-align: middle;\n",
              "    }\n",
              "\n",
              "    .dataframe tbody tr th {\n",
              "        vertical-align: top;\n",
              "    }\n",
              "\n",
              "    .dataframe thead th {\n",
              "        text-align: right;\n",
              "    }\n",
              "</style>\n",
              "<table border=\"1\" class=\"dataframe\">\n",
              "  <thead>\n",
              "    <tr style=\"text-align: right;\">\n",
              "      <th></th>\n",
              "      <th>0</th>\n",
              "    </tr>\n",
              "  </thead>\n",
              "  <tbody>\n",
              "    <tr>\n",
              "      <th>event_time</th>\n",
              "      <td>0</td>\n",
              "    </tr>\n",
              "    <tr>\n",
              "      <th>event_type</th>\n",
              "      <td>0</td>\n",
              "    </tr>\n",
              "    <tr>\n",
              "      <th>product_id</th>\n",
              "      <td>0</td>\n",
              "    </tr>\n",
              "    <tr>\n",
              "      <th>category_id</th>\n",
              "      <td>0</td>\n",
              "    </tr>\n",
              "    <tr>\n",
              "      <th>brand</th>\n",
              "      <td>0</td>\n",
              "    </tr>\n",
              "    <tr>\n",
              "      <th>price</th>\n",
              "      <td>0</td>\n",
              "    </tr>\n",
              "    <tr>\n",
              "      <th>user_id</th>\n",
              "      <td>0</td>\n",
              "    </tr>\n",
              "    <tr>\n",
              "      <th>user_session</th>\n",
              "      <td>0</td>\n",
              "    </tr>\n",
              "  </tbody>\n",
              "</table>\n",
              "</div><br><label><b>dtype:</b> int64</label>"
            ]
          },
          "metadata": {},
          "execution_count": 7
        }
      ]
    },
    {
      "cell_type": "markdown",
      "source": [
        "3. 이상치(Outliers) 처리"
      ],
      "metadata": {
        "id": "CLqLc2lqPFKw"
      }
    },
    {
      "cell_type": "code",
      "source": [
        "df['event_time'].describe()"
      ],
      "metadata": {
        "colab": {
          "base_uri": "https://localhost:8080/",
          "height": 0
        },
        "id": "hoGgO7C9PFRg",
        "outputId": "11838266-161d-4be9-a34d-9b6ea79a0047"
      },
      "execution_count": 8,
      "outputs": [
        {
          "output_type": "execute_result",
          "data": {
            "text/plain": [
              "count                                1920758\n",
              "mean     2019-12-14 20:50:43.754482432+00:00\n",
              "min                2019-12-01 00:00:00+00:00\n",
              "25%      2019-12-07 19:10:03.249999872+00:00\n",
              "50%                2019-12-14 11:05:43+00:00\n",
              "75%      2019-12-21 16:29:01.249999872+00:00\n",
              "max                2019-12-31 23:59:46+00:00\n",
              "Name: event_time, dtype: object"
            ],
            "text/html": [
              "<div>\n",
              "<style scoped>\n",
              "    .dataframe tbody tr th:only-of-type {\n",
              "        vertical-align: middle;\n",
              "    }\n",
              "\n",
              "    .dataframe tbody tr th {\n",
              "        vertical-align: top;\n",
              "    }\n",
              "\n",
              "    .dataframe thead th {\n",
              "        text-align: right;\n",
              "    }\n",
              "</style>\n",
              "<table border=\"1\" class=\"dataframe\">\n",
              "  <thead>\n",
              "    <tr style=\"text-align: right;\">\n",
              "      <th></th>\n",
              "      <th>event_time</th>\n",
              "    </tr>\n",
              "  </thead>\n",
              "  <tbody>\n",
              "    <tr>\n",
              "      <th>count</th>\n",
              "      <td>1920758</td>\n",
              "    </tr>\n",
              "    <tr>\n",
              "      <th>mean</th>\n",
              "      <td>2019-12-14 20:50:43.754482432+00:00</td>\n",
              "    </tr>\n",
              "    <tr>\n",
              "      <th>min</th>\n",
              "      <td>2019-12-01 00:00:00+00:00</td>\n",
              "    </tr>\n",
              "    <tr>\n",
              "      <th>25%</th>\n",
              "      <td>2019-12-07 19:10:03.249999872+00:00</td>\n",
              "    </tr>\n",
              "    <tr>\n",
              "      <th>50%</th>\n",
              "      <td>2019-12-14 11:05:43+00:00</td>\n",
              "    </tr>\n",
              "    <tr>\n",
              "      <th>75%</th>\n",
              "      <td>2019-12-21 16:29:01.249999872+00:00</td>\n",
              "    </tr>\n",
              "    <tr>\n",
              "      <th>max</th>\n",
              "      <td>2019-12-31 23:59:46+00:00</td>\n",
              "    </tr>\n",
              "  </tbody>\n",
              "</table>\n",
              "</div><br><label><b>dtype:</b> object</label>"
            ]
          },
          "metadata": {},
          "execution_count": 8
        }
      ]
    },
    {
      "cell_type": "markdown",
      "source": [
        "- 2019-12-01부터 2019-12-31 한달 간의 데이터\n",
        "- 날짜에 대한 이상치 없음"
      ],
      "metadata": {
        "id": "0AK5Qb7pPFX1"
      }
    },
    {
      "cell_type": "markdown",
      "source": [
        "### **퍼널별 전환률 분석**\n",
        "\n",
        "---\n",
        "\n"
      ],
      "metadata": {
        "id": "LCeJZJJAErHK"
      }
    },
    {
      "cell_type": "code",
      "source": [
        "import pandas as pd\n",
        "import sqlite3\n",
        "\n",
        "conn = sqlite3.connect('ecommerce.db')\n",
        "df.to_sql('ecommerce_table', conn, if_exists='replace', index=False)\n",
        "\n",
        "query = \"SELECT * FROM ecommerce_table\"\n",
        "result_df = pd.read_sql(query, conn)\n",
        "\n",
        "print(result_df.head())"
      ],
      "metadata": {
        "colab": {
          "base_uri": "https://localhost:8080/"
        },
        "id": "p8qh24GiE0vo",
        "outputId": "2e6603de-0e5d-421e-d6a7-ecf1086b1b32"
      },
      "execution_count": 12,
      "outputs": [
        {
          "output_type": "stream",
          "name": "stdout",
          "text": [
            "                  event_time        event_type  product_id  \\\n",
            "0  2019-12-01 00:00:00+00:00  remove_from_cart     5712790   \n",
            "1  2019-12-01 00:00:00+00:00              view     5764655   \n",
            "2  2019-12-01 00:00:02+00:00              cart        4958   \n",
            "3  2019-12-01 00:00:05+00:00              view     5848413   \n",
            "4  2019-12-01 00:00:09+00:00              view     5773361   \n",
            "\n",
            "           category_id      brand  price    user_id  \\\n",
            "0  1487580005268456287      f.o.x   6.27  576802932   \n",
            "1  1487580005411062629        cnd  29.05  412120092   \n",
            "2  1487580009471148064     runail   1.19  494077766   \n",
            "3  1487580007675986893  freedecor   0.79  348405118   \n",
            "4  1487580005134238553     runail   2.62  560109803   \n",
            "\n",
            "                           user_session  \n",
            "0  51d85cb0-897f-48d2-918b-ad63965c12dc  \n",
            "1  8adff31e-2051-4894-9758-224bfa8aec18  \n",
            "2  c99a50e8-2fac-4c4d-89ec-41c05f114554  \n",
            "3  722ffea5-73c0-4924-8e8f-371ff8031af4  \n",
            "4  38cf4ba1-4a0a-4c9e-b870-46685d105f95  \n"
          ]
        }
      ]
    },
    {
      "cell_type": "markdown",
      "source": [
        "1. view - cart - purchase 퍼널"
      ],
      "metadata": {
        "id": "unOsqFuzK5RQ"
      }
    },
    {
      "cell_type": "code",
      "source": [
        "query_funnel1 = pd.read_sql_query(\"\"\"\n",
        "\n",
        "WITH session_purchase AS (\n",
        "    SELECT user_session,\n",
        "           (CASE WHEN event_type = 'view' THEN 1 ELSE 0 END) AS has_view,\n",
        "           (CASE WHEN event_type = 'cart' THEN 1 ELSE 0 END) AS has_cart,\n",
        "           (CASE WHEN event_type = 'purchase' THEN 1 ELSE 0 END) AS has_purchase,\n",
        "    FROM ecommerce_table\n",
        "    GROUP BY user_session\n",
        ")\n",
        "SELECT\n",
        "    ROUND(CAST(SUM(has_view) AS FLOAT) / COUNT(*) * 100, 2) || '%' as Entire_View_conversion_rate,\n",
        "    ROUND(CAST(SUM(has_cart) AS FLOAT) / CAST(SUM(has_view) AS FLOAT) * 100, 2) || '%' as View_Cart_conversion_rate,\n",
        "    ROUND(CAST(SUM(has_purchase) AS FLOAT) / CAST(SUM(has_cart) AS FLOAT) * 100, 2) || '%' as Cart_Purchase_conversion_rate\n",
        "FROM session_purchase;\n",
        "\n",
        "\"\"\"\n",
        ",conn)\n",
        "\n",
        "# 결과 확인\n",
        "print(query_funnel1.head())"
      ],
      "metadata": {
        "colab": {
          "base_uri": "https://localhost:8080/"
        },
        "id": "I1fgqDKwE036",
        "outputId": "64ef8a1b-9c45-42d1-8c70-cfdf88c562a9"
      },
      "execution_count": 25,
      "outputs": [
        {
          "output_type": "stream",
          "name": "stdout",
          "text": [
            "  Entire_View_conversion_rate View_Cart_conversion_rate  \\\n",
            "0                      86.08%                    11.06%   \n",
            "\n",
            "  Cart_Purchase_conversion_rate  \n",
            "0                         7.11%  \n"
          ]
        }
      ]
    },
    {
      "cell_type": "markdown",
      "source": [
        "2. view - cart - remove_from_cart 퍼널"
      ],
      "metadata": {
        "id": "uYyySv_xK9ri"
      }
    },
    {
      "cell_type": "code",
      "source": [
        "query_funnel2 = pd.read_sql_query(\"\"\"\n",
        "\n",
        "WITH T1 AS (\n",
        "    SELECT user_session,\n",
        "           (CASE WHEN event_type = 'view' THEN 1 ELSE 0 END) AS has_view,\n",
        "           (CASE WHEN event_type = 'cart' THEN 1 ELSE 0 END) AS has_cart,\n",
        "           (CASE WHEN event_type = 'remove_from_cart' THEN 1 ELSE 0 END) AS has_remove_from_cart\n",
        "    FROM ecommerce_table\n",
        "    GROUP BY user_session\n",
        ")\n",
        "SELECT\n",
        "    ROUND(CAST(SUM(has_view) AS FLOAT) / COUNT(*) * 100, 2) || '%' as Entire_View_conversion_rate,\n",
        "    ROUND(CAST(SUM(has_cart) AS FLOAT) / CAST(SUM(has_view) AS FLOAT) * 100, 2) || '%' as View_Cart_conversion_rate,\n",
        "    ROUND(CAST(SUM(has_remove_from_cart) AS FLOAT) / CAST(SUM(has_cart) AS FLOAT) * 100, 2) || '%' as Cart_Remove_conversion_rate\n",
        "FROM T1;\n",
        "\n",
        "\"\"\"\n",
        ",conn)\n",
        "\n",
        "# 결과 확인\n",
        "print(query_funnel2.head())"
      ],
      "metadata": {
        "colab": {
          "base_uri": "https://localhost:8080/"
        },
        "id": "dnnIgOmNLErE",
        "outputId": "2561e79a-4625-45f9-9d26-d28787b7a8fc"
      },
      "execution_count": 24,
      "outputs": [
        {
          "output_type": "stream",
          "name": "stdout",
          "text": [
            "  Entire_View_conversion_rate View_Cart_conversion_rate  \\\n",
            "0                      86.08%                    11.06%   \n",
            "\n",
            "  Cart_Remove_conversion_rate  \n",
            "0                      39.09%  \n"
          ]
        }
      ]
    },
    {
      "cell_type": "markdown",
      "source": [
        "3. view -purchase 퍼널"
      ],
      "metadata": {
        "id": "pQmIN_KkLExd"
      }
    },
    {
      "cell_type": "code",
      "source": [
        "query_funnel3 = pd.read_sql_query(\"\"\"\n",
        "\n",
        "WITH T1 AS (\n",
        "    SELECT user_session,\n",
        "           (CASE WHEN event_type = 'view' THEN 1 ELSE 0 END) AS has_view,\n",
        "           (CASE WHEN event_type = 'purchase' THEN 1 ELSE 0 END) AS has_purchase\n",
        "\n",
        "    FROM ecommerce_table\n",
        "    GROUP BY user_session\n",
        ")\n",
        "SELECT\n",
        "    ROUND(CAST(SUM(has_purchase) AS FLOAT) / CAST(SUM(has_view) AS FLOAT) * 100, 2) || '%' as View_Purchase_conversion_rate\n",
        "FROM T1;\n",
        "\n",
        "\"\"\"\n",
        ",conn)\n",
        "\n",
        "# 결과 확인\n",
        "print(query_funnel3.head())"
      ],
      "metadata": {
        "colab": {
          "base_uri": "https://localhost:8080/"
        },
        "id": "nb0d1VAaLE1y",
        "outputId": "ee34bb4f-e338-4939-f4f4-fb7611f4f230"
      },
      "execution_count": 29,
      "outputs": [
        {
          "output_type": "stream",
          "name": "stdout",
          "text": [
            "  View_Purchase_conversion_rate\n",
            "0                         0.79%\n"
          ]
        }
      ]
    }
  ]
}